{
  "nbformat": 4,
  "nbformat_minor": 0,
  "metadata": {
    "colab": {
      "provenance": [],
      "collapsed_sections": [],
      "include_colab_link": true
    },
    "kernelspec": {
      "name": "python3",
      "display_name": "Python 3"
    },
    "language_info": {
      "name": "python"
    }
  },
  "cells": [
    {
      "cell_type": "markdown",
      "metadata": {
        "id": "view-in-github",
        "colab_type": "text"
      },
      "source": [
        "<a href=\"https://colab.research.google.com/github/Bhavyasree-Toleti/FMML-COURSE-ASSIGNMENTSS/blob/main/FMML_Aug22_M1Lab3_Terms%26Metrics.ipynb\" target=\"_parent\"><img src=\"https://colab.research.google.com/assets/colab-badge.svg\" alt=\"Open In Colab\"/></a>"
      ]
    },
    {
      "cell_type": "markdown",
      "metadata": {
        "id": "3Eu9VZbF01eq"
      },
      "source": [
        "# Machine learning terms and metrics\n",
        "\n",
        "FMML Module 1, Lab 3<br>\n",
        "Module Coordinator: Amit Pandey amit.pandey@research.iiit.ac.in <br>\n",
        "<br>\n",
        "\n",
        " In this lab, we will show a part of the ML pipeline by extracting features, training and testing. We will also explore how data augmentation affects accuracy."
      ]
    },
    {
      "cell_type": "code",
      "metadata": {
        "id": "8qBvyEem0vLi"
      },
      "source": [
        "import matplotlib.pyplot as plt\n",
        "import numpy as np\n",
        "from sklearn import datasets\n",
        "# set randomseed\n",
        "rng = np.random.default_rng(seed=42)"
      ],
      "execution_count": 12,
      "outputs": []
    },
    {
      "cell_type": "markdown",
      "metadata": {
        "id": "u3t59g5s1HfC"
      },
      "source": [
        "In this lab, we will use the California Housing dataset. There are 20640 samples, each with 8 attributes like income of the block, age of the houses per district etc. The task is to predict the cost of the houses per district. \n",
        "\n",
        "Let us download and examine the dataset. "
      ]
    },
    {
      "cell_type": "code",
      "metadata": {
        "id": "8LpqjN991GGJ",
        "colab": {
          "base_uri": "https://localhost:8080/"
        },
        "outputId": "ba17aa98-b307-48ab-e4a5-3ccf37b1bb9a"
      },
      "source": [
        " dataset =  datasets.fetch_california_housing()\n",
        " # print(dataset.DESCR)  # uncomment this if you want to know more about this dataset\n",
        " # print(dataset.keys())  # if you want to know what else is there in this dataset\n",
        " dataset.target = dataset.target.astype(np.int) # so that we can classify\n",
        " print(dataset.data.shape)\n",
        " print(dataset.target.shape)"
      ],
      "execution_count": 13,
      "outputs": [
        {
          "output_type": "stream",
          "name": "stdout",
          "text": [
            "(20640, 8)\n",
            "(20640,)\n"
          ]
        },
        {
          "output_type": "stream",
          "name": "stderr",
          "text": [
            "/usr/local/lib/python3.7/dist-packages/ipykernel_launcher.py:4: DeprecationWarning: `np.int` is a deprecated alias for the builtin `int`. To silence this warning, use `int` by itself. Doing this will not modify any behavior and is safe. When replacing `np.int`, you may wish to use e.g. `np.int64` or `np.int32` to specify the precision. If you wish to review your current use, check the release note link for additional information.\n",
            "Deprecated in NumPy 1.20; for more details and guidance: https://numpy.org/devdocs/release/1.20.0-notes.html#deprecations\n",
            "  after removing the cwd from sys.path.\n"
          ]
        }
      ]
    },
    {
      "cell_type": "markdown",
      "metadata": {
        "id": "iNx4174W5xRg"
      },
      "source": [
        "Here is a function for calculating the 1-nearest neighbours"
      ]
    },
    {
      "cell_type": "code",
      "source": [
        "type(dataset), dataset.DESCR"
      ],
      "metadata": {
        "colab": {
          "base_uri": "https://localhost:8080/"
        },
        "id": "ut5lj4HsaTfp",
        "outputId": "aa2d8f74-5274-48c0-95a8-336724620dcd"
      },
      "execution_count": 14,
      "outputs": [
        {
          "output_type": "execute_result",
          "data": {
            "text/plain": [
              "(sklearn.utils.Bunch,\n",
              " '.. _california_housing_dataset:\\n\\nCalifornia Housing dataset\\n--------------------------\\n\\n**Data Set Characteristics:**\\n\\n    :Number of Instances: 20640\\n\\n    :Number of Attributes: 8 numeric, predictive attributes and the target\\n\\n    :Attribute Information:\\n        - MedInc        median income in block group\\n        - HouseAge      median house age in block group\\n        - AveRooms      average number of rooms per household\\n        - AveBedrms     average number of bedrooms per household\\n        - Population    block group population\\n        - AveOccup      average number of household members\\n        - Latitude      block group latitude\\n        - Longitude     block group longitude\\n\\n    :Missing Attribute Values: None\\n\\nThis dataset was obtained from the StatLib repository.\\nhttps://www.dcc.fc.up.pt/~ltorgo/Regression/cal_housing.html\\n\\nThe target variable is the median house value for California districts,\\nexpressed in hundreds of thousands of dollars ($100,000).\\n\\nThis dataset was derived from the 1990 U.S. census, using one row per census\\nblock group. A block group is the smallest geographical unit for which the U.S.\\nCensus Bureau publishes sample data (a block group typically has a population\\nof 600 to 3,000 people).\\n\\nAn household is a group of people residing within a home. Since the average\\nnumber of rooms and bedrooms in this dataset are provided per household, these\\ncolumns may take surpinsingly large values for block groups with few households\\nand many empty houses, such as vacation resorts.\\n\\nIt can be downloaded/loaded using the\\n:func:`sklearn.datasets.fetch_california_housing` function.\\n\\n.. topic:: References\\n\\n    - Pace, R. Kelley and Ronald Barry, Sparse Spatial Autoregressions,\\n      Statistics and Probability Letters, 33 (1997) 291-297\\n')"
            ]
          },
          "metadata": {},
          "execution_count": 14
        }
      ]
    },
    {
      "cell_type": "code",
      "metadata": {
        "id": "07zpydQj1hIQ",
        "outputId": "060a98b6-a83e-44a8-88c6-04a5e01cbb64",
        "colab": {
          "base_uri": "https://localhost:8080/"
        }
      },
      "source": [
        "def NN1(traindata, trainlabel, query):\n",
        "  diff  = traindata - query  # find the difference between features. Numpy automatically takes care of the size here \n",
        "  sq = diff*diff # square the differences\n",
        "  dist = sq.sum(1) # add up the squares\n",
        "  label = trainlabel[np.argmin(dist)] # our predicted label is the label of the training data which has the least distance from the query\n",
        "  return label\n",
        "\n",
        "def NN(traindata, trainlabel, testdata):\n",
        "  # we will run nearest neighbour for each sample in the test data \n",
        "  # and collect the predicted classes in an array using list comprehension\n",
        "  predlabel = np.array([NN1(traindata, trainlabel, i) for i in testdata])\n",
        "  return predlabel\n",
        "\n",
        "\n",
        "\n",
        "5,5\n",
        "6,6\n",
        "8,9\n",
        "\n",
        "\n",
        "0,0"
      ],
      "execution_count": 15,
      "outputs": [
        {
          "output_type": "execute_result",
          "data": {
            "text/plain": [
              "(0, 0)"
            ]
          },
          "metadata": {},
          "execution_count": 15
        }
      ]
    },
    {
      "cell_type": "markdown",
      "metadata": {
        "id": "03JktkfIGaje"
      },
      "source": [
        "We will also define a 'random classifier', which randomly allots labels to each sample"
      ]
    },
    {
      "cell_type": "code",
      "metadata": {
        "id": "fogWAtjyGhAH"
      },
      "source": [
        "def RandomClassifier(traindata, trainlabel, testdata):\n",
        "  # in reality, we don't need these arguments\n",
        "\n",
        "  classes = np.unique(trainlabel)\n",
        "  rints = rng.integers(low=0, high=len(classes), size=len(testdata))\n",
        "  predlabel = classes[rints]\n",
        "  return predlabel"
      ],
      "execution_count": 16,
      "outputs": []
    },
    {
      "cell_type": "markdown",
      "metadata": {
        "id": "1Hjf1KHs7fU5"
      },
      "source": [
        "Let us define a metric 'Accuracy' to see how good our learning algorithm is. Accuracy is the ratio of the number of correctly classified samples to the total number of samples. The higher the accuracy, the better the algorithm. "
      ]
    },
    {
      "cell_type": "code",
      "metadata": {
        "id": "ouuCqWU07bz-"
      },
      "source": [
        "def Accuracy(gtlabel, predlabel):\n",
        "  assert len(gtlabel)==len(predlabel), \"Length of the groundtruth labels and predicted labels should be the same\"\n",
        "  correct = (gtlabel==predlabel).sum() # count the number of times the groundtruth label is equal to the predicted label.\n",
        "  return correct/len(gtlabel)"
      ],
      "execution_count": 17,
      "outputs": []
    },
    {
      "cell_type": "markdown",
      "metadata": {
        "id": "4vJFwBFa9Klw"
      },
      "source": [
        "Let us make a function to split the dataset with the desired probability."
      ]
    },
    {
      "cell_type": "code",
      "metadata": {
        "id": "Ko0VzpSM2Tdi"
      },
      "source": [
        "def split(data, label, percent):\n",
        "  # generate a random number for each sample\n",
        "  rnd = rng.random(len(label))\n",
        "  split1 = rnd<percent\n",
        "  split2 = rnd>=percent\n",
        "  split1data = data[split1,:]\n",
        "  split1label = label[split1]\n",
        "  split2data = data[split2,:]\n",
        "  split2label = label[split2]\n",
        "  return split1data, split1label, split2data, split2label"
      ],
      "execution_count": 18,
      "outputs": []
    },
    {
      "cell_type": "markdown",
      "metadata": {
        "id": "AcK3LEAJ_LGC"
      },
      "source": [
        "We will reserve 20% of our dataset as the test set. We will not change this portion throughout our experiments"
      ]
    },
    {
      "cell_type": "code",
      "metadata": {
        "id": "bBZkHBLJ1iU-",
        "colab": {
          "base_uri": "https://localhost:8080/"
        },
        "outputId": "2dcb9fb1-ac1b-4e5d-fdde-b5aac99abd53"
      },
      "source": [
        "testdata, testlabel, alltraindata, alltrainlabel = split(dataset.data, dataset.target, 20/100)\n",
        "print('Number of test samples = ', len(testlabel))\n",
        "print('Number of other samples = ', len(alltrainlabel))\n",
        "print('Percent of test data = ', len(testlabel)*100/len(dataset.target),'%')"
      ],
      "execution_count": 19,
      "outputs": [
        {
          "output_type": "stream",
          "name": "stdout",
          "text": [
            "Number of test samples =  4144\n",
            "Number of other samples =  16496\n",
            "Percent of test data =  20.07751937984496 %\n"
          ]
        }
      ]
    },
    {
      "cell_type": "markdown",
      "metadata": {
        "id": "a6Ss0Z6IAGNV"
      },
      "source": [
        "## Experiments with splits\n",
        "\n",
        "Let us reserve some of our train data as a validation set"
      ]
    },
    {
      "cell_type": "code",
      "metadata": {
        "id": "WFew2iry_7W7"
      },
      "source": [
        "traindata, trainlabel, valdata, vallabel = split(alltraindata, alltrainlabel, 75/100)"
      ],
      "execution_count": 20,
      "outputs": []
    },
    {
      "cell_type": "markdown",
      "metadata": {
        "id": "60hiu4clFN1i"
      },
      "source": [
        "What is the accuracy of our classifiers on the train dataset?"
      ]
    },
    {
      "cell_type": "code",
      "metadata": {
        "id": "DBlZDTHUFTZx",
        "colab": {
          "base_uri": "https://localhost:8080/"
        },
        "outputId": "98a8588d-b408-4d34-bc27-a111453821cf"
      },
      "source": [
        "trainpred = NN(traindata, trainlabel, traindata)\n",
        "trainAccuracy = Accuracy(trainlabel, trainpred)\n",
        "print(\"Train accuracy using nearest neighbour is \", trainAccuracy)\n",
        "\n",
        "trainpred = RandomClassifier(traindata, trainlabel, traindata)\n",
        "trainAccuracy = Accuracy(trainlabel, trainpred)\n",
        "print(\"Train accuracy using random classifier is \", trainAccuracy)"
      ],
      "execution_count": 21,
      "outputs": [
        {
          "output_type": "stream",
          "name": "stdout",
          "text": [
            "Train accuracy using nearest neighbour is  1.0\n",
            "Train accuracy using random classifier is  0.164375808538163\n"
          ]
        }
      ]
    },
    {
      "cell_type": "code",
      "source": [],
      "metadata": {
        "id": "jnMblJyaXKZZ"
      },
      "execution_count": 21,
      "outputs": []
    },
    {
      "cell_type": "markdown",
      "source": [
        "## Interesting: See how train accuracy of nearest neighbour is 1 i.e. 100%. Ponder and Explain."
      ],
      "metadata": {
        "id": "tW_I-YuhbQqA"
      }
    },
    {
      "cell_type": "markdown",
      "metadata": {
        "id": "7h08-9gJDtSy"
      },
      "source": [
        "For nearest neighbour, the train accuracy is always 1. The accuracy of the random classifier is close to 1/(number of classes) which is 0.1666 in our case.\n",
        "\n",
        "Let us predict the labels for our validation set and get the accuracy"
      ]
    },
    {
      "cell_type": "code",
      "metadata": {
        "id": "4h7bXoW_2H3v",
        "colab": {
          "base_uri": "https://localhost:8080/"
        },
        "outputId": "f68e1163-d3fc-43bf-8d4a-165ae9130492"
      },
      "source": [
        "valpred = NN(traindata, trainlabel, valdata)\n",
        "valAccuracy = Accuracy(vallabel, valpred)\n",
        "print(\"Validation accuracy using nearest neighbour is \", valAccuracy)\n",
        "\n",
        "valpred = RandomClassifier(traindata, trainlabel, valdata)\n",
        "valAccuracy = Accuracy(vallabel, valpred)\n",
        "print(\"Validation accuracy using random classifier is \", valAccuracy)"
      ],
      "execution_count": 22,
      "outputs": [
        {
          "output_type": "stream",
          "name": "stdout",
          "text": [
            "Validation accuracy using nearest neighbour is  0.34108527131782945\n",
            "Validation accuracy using random classifier is  0.1688468992248062\n"
          ]
        }
      ]
    },
    {
      "cell_type": "markdown",
      "metadata": {
        "id": "py9bLguFEjfg"
      },
      "source": [
        "Validation accuracy of nearest neighbour is considerably less than its train accuracy while the validation accuracy of random classifier is the same. However, the validation accuracy of nearest neighbour is twice that of the random classifier. \n",
        "\n",
        "Now let us try another random split and check the validation accuracy"
      ]
    },
    {
      "cell_type": "code",
      "metadata": {
        "id": "ujm3cyYzEntE",
        "colab": {
          "base_uri": "https://localhost:8080/"
        },
        "outputId": "61d9cee1-8b0d-446b-a759-5f034d4e13f4"
      },
      "source": [
        "traindata, trainlabel, valdata, vallabel = split(alltraindata, alltrainlabel, 75/100)\n",
        "valpred = NN(traindata, trainlabel, valdata)\n",
        "valAccuracy = Accuracy(vallabel, valpred)\n",
        "print(\"Validation accuracy of nearest neighbour is \", valAccuracy)"
      ],
      "execution_count": 23,
      "outputs": [
        {
          "output_type": "stream",
          "name": "stdout",
          "text": [
            "Validation accuracy of nearest neighbour is  0.34048257372654156\n"
          ]
        }
      ]
    },
    {
      "cell_type": "markdown",
      "metadata": {
        "id": "oSOx7U83EKie"
      },
      "source": [
        "You can run the above cell multiple times to try with different random splits. \n",
        "We notice that the accuracy is different for each run, but close together. \n",
        "\n",
        "Now let us compare it with the accuracy we get on the test dataset. "
      ]
    },
    {
      "cell_type": "code",
      "metadata": {
        "id": "PNEZ5ToYBEDW",
        "colab": {
          "base_uri": "https://localhost:8080/"
        },
        "outputId": "c921d985-6ee5-48e7-fdd8-e69cf050b3bc"
      },
      "source": [
        "testpred = NN(alltraindata, alltrainlabel, testdata)\n",
        "testAccuracy = Accuracy(testlabel, testpred)\n",
        "print('Test accuracy is ', testAccuracy)"
      ],
      "execution_count": 24,
      "outputs": [
        {
          "output_type": "stream",
          "name": "stdout",
          "text": [
            "Test accuracy is  0.34917953667953666\n"
          ]
        }
      ]
    },
    {
      "cell_type": "markdown",
      "metadata": {
        "id": "w3dGD531K3gH"
      },
      "source": [
        "### Try it out for yourself and answer:\n",
        "1. How is the accuracy of the validation set affected if we increase the percentage of validation set? What happens when we reduce it?\n",
        "2. How does the size of the train and validation set affect how well we can predict the accuracy on the test set using the validation set?\n",
        "3. What do you think is a good percentage to reserve for the validation set so that thest two factors are balanced? \n",
        "\n",
        "Answer for both nearest neighbour and random classifier. You can note down the values for your experiments and plot a graph using  <a href=https://matplotlib.org/stable/gallery/lines_bars_and_markers/step_demo.html#sphx-glr-gallery-lines-bars-and-markers-step-demo-py>plt.plot<href>. Check also for extreme values for splits, like 99.9% or 0.1%"
      ]
    },
    {
      "cell_type": "markdown",
      "source": [
        "# **Answer for Question:01**"
      ],
      "metadata": {
        "id": "QuAd14au008F"
      }
    },
    {
      "cell_type": "code",
      "source": [
        "def findPoints(low, high, diff):\n",
        "  accuracyNN = []\n",
        "  accuracyRandom = []\n",
        "  datasize = []\n",
        "  for i in range(low, high, diff):\n",
        "    datasize.append(100-i)\n",
        "    traindata, trainlabel, valdata, vallabel = split(alltraindata, alltrainlabel, i/100)\n",
        "\n",
        "    valPredNN = NN(traindata, trainlabel, valdata)\n",
        "    valAccuracyNN = Accuracy(vallabel, valPredNN)\n",
        "    accuracyNN.append(valAccuracyNN)\n",
        "\n",
        "    valPredRandom = RandomClassifier(traindata, trainlabel, valdata)\n",
        "    valAccuracyRandom = Accuracy(vallabel, valPredRandom)\n",
        "    accuracyRandom.append(valAccuracyRandom)\n",
        "\n",
        "  return accuracyNN, accuracyRandom, datasize"
      ],
      "metadata": {
        "id": "RbBebP-P1ClT"
      },
      "execution_count": 25,
      "outputs": []
    },
    {
      "cell_type": "code",
      "source": [
        "#for different values of validation size lets see the accuracy\n",
        "accuracyNN, accuracyRandom, valdatasize = findPoints(1,100, 5)\n"
      ],
      "metadata": {
        "id": "Dd0NpP6M1nbG"
      },
      "execution_count": 26,
      "outputs": []
    },
    {
      "cell_type": "code",
      "source": [
        "plt.figure(figsize=(12,6),dpi = 80)\n",
        "plt.subplot(1,2,1)\n",
        "plt.scatter(valdatasize, accuracyNN)\n",
        "plt.plot(valdatasize, accuracyNN)\n",
        "plt.title(\"Validation data size VS Validation Accuracy\\n for NN Classifier\")\n",
        "plt.xlabel(\"Validation data size\")\n",
        "plt.ylabel(\"Validation Accuracy\")\n",
        "\n",
        "plt.subplot(1,2,2)\n",
        "plt.scatter(valdatasize, accuracyRandom)\n",
        "plt.plot(valdatasize, accuracyRandom)\n",
        "plt.title(\"Validation data size VS Validation Accuracy\\n for Random Classifier\")\n",
        "plt.xlabel(\"Validation data size\")\n",
        "plt.ylabel(\"Validation Accuracy\")\n",
        "\n",
        "plt.show()"
      ],
      "metadata": {
        "id": "TSJh-lDC2GPQ",
        "outputId": "70555151-50b6-40dc-e324-58d71760b39f",
        "colab": {
          "base_uri": "https://localhost:8080/",
          "height": 459
        }
      },
      "execution_count": 27,
      "outputs": [
        {
          "output_type": "display_data",
          "data": {
            "text/plain": [
              "<Figure size 960x480 with 2 Axes>"
            ],
            "image/png": "[encoded data removed]"
          },
          "metadata": {
            "needs_background": "light"
          }
        }
      ]
    },
    {
      "cell_type": "markdown",
      "source": [
        "From the subplot 1 we can observe that the accuracy of the model decreases with the increase in size of validation data. Usually it is considered good to have a validation data set of size 10% to 25% so that we can validate that the model is not overfitted. Conclusion - Increasing the size of validation data set reduces the accuracy, and there exists a value for validation set size for which the accuracy is high. if the validation accuracy is more or less than that value the accuracy comes out less."
      ],
      "metadata": {
        "id": "z0Jv5xkL5yFr"
      }
    },
    {
      "cell_type": "markdown",
      "source": [
        "# **Answer for Question:02**"
      ],
      "metadata": {
        "id": "p-X2QEO72YII"
      }
    },
    {
      "cell_type": "code",
      "source": [
        "def findPointsVal(low, high, diff):\n",
        "  accuracyNN = []\n",
        "  accuracyRandom = []\n",
        "  datasize = []\n",
        "  for i in range(low, high, diff):\n",
        "    datasize.append(100-i)\n",
        "    traindata, trainlabel, valdata, vallabel = split(alltraindata, alltrainlabel, i/100)\n",
        "\n",
        "    valPredNN = NN(traindata, trainlabel, valdata)\n",
        "    valAccuracyNN = Accuracy(vallabel, valPredNN)\n",
        "    accuracyNN.append(valAccuracyNN)\n",
        "\n",
        "    valPredRandom = RandomClassifier(traindata, trainlabel, valdata)\n",
        "    valAccuracyRandom = Accuracy(vallabel, valPredRandom)\n",
        "    accuracyRandom.append(valAccuracyRandom)\n",
        "\n",
        "  return accuracyNN, accuracyRandom, datasize\n",
        "\n",
        "def findPointsTest(low, high, diff):\n",
        "  accuracyNN = []\n",
        "  accuracyRandom = []\n",
        "  datasize = []\n",
        "  for i in range(low, high, diff):\n",
        "    datasize.append(100-i)\n",
        "    traindata, trainlabel, valdata, vallabel = split(alltraindata, alltrainlabel, i/100)\n",
        "\n",
        "    testPredNN = NN(traindata, trainlabel, testdata)\n",
        "    testAccuracyNN = Accuracy(testlabel, testPredNN)\n",
        "    accuracyNN.append(testAccuracyNN)\n",
        "\n",
        "    testPredRandom = RandomClassifier(traindata, trainlabel, testdata)\n",
        "    testAccuracyRandom = Accuracy(testlabel, testPredRandom)\n",
        "    accuracyRandom.append(testAccuracyRandom)\n",
        "\n",
        "  return accuracyNN, accuracyRandom, datasize\n"
      ],
      "metadata": {
        "id": "rmdDpMNi2f8l"
      },
      "execution_count": 28,
      "outputs": []
    },
    {
      "cell_type": "code",
      "source": [
        "\n",
        "testdata, testlabel, alltraindata, alltrainlabel = split(dataset.data, dataset.target, 20/100)\n"
      ],
      "metadata": {
        "id": "3e0ox6Gn2rqA"
      },
      "execution_count": 29,
      "outputs": []
    },
    {
      "cell_type": "code",
      "source": [
        " #for different values of validation size lets see the accuracy\n",
        "testaccuracyNN, testaccuracyRandom, valdatasize = findPointsTest(1,100, 5)\n",
        "valaccuracyNN, valaccuracyRandom, valdatasize = findPointsTest(1,100,5)\n"
      ],
      "metadata": {
        "id": "p6j1Dnc-3gok"
      },
      "execution_count": 30,
      "outputs": []
    },
    {
      "cell_type": "code",
      "source": [
        "plt.figure(figsize=(12,6),dpi = 80)\n",
        "plt.subplot(1,2,1)\n",
        "plt.scatter(valdatasize, testaccuracyNN)\n",
        "plt.plot(valdatasize, testaccuracyNN, label=\"test accuracy\")\n",
        "plt.scatter(valdatasize, valaccuracyNN)\n",
        "plt.plot(valdatasize, valaccuracyNN, label='val accuracy')\n",
        "plt.legend()\n",
        "plt.title(\"Validation data size plot \\nfor NN Classifier Using Validation set\")\n",
        "plt.xlabel(\"Validation data size\")\n",
        "plt.ylabel(\"Accuracy\")\n",
        "\n",
        "plt.subplot(1,2,2)\n",
        "plt.scatter(valdatasize, testaccuracyRandom)\n",
        "plt.plot(valdatasize, testaccuracyRandom,label=\"test accuracy\")\n",
        "plt.scatter(valdatasize, valaccuracyRandom)\n",
        "plt.plot(valdatasize, valaccuracyRandom,label='val accuracy')\n",
        "plt.title(\"Validation data size plot \\nfor Random Classifier using Validation set\")\n",
        "plt.xlabel(\"Validation data size\")\n",
        "plt.ylabel(\"Accuracy\")\n",
        "plt.legend()\n",
        "plt.show()\n"
      ],
      "metadata": {
        "id": "H9oT7wLN47ni",
        "outputId": "41c67d13-60ef-4a5a-af70-bf3da052639a",
        "colab": {
          "base_uri": "https://localhost:8080/",
          "height": 459
        }
      },
      "execution_count": 31,
      "outputs": [
        {
          "output_type": "display_data",
          "data": {
            "text/plain": [
              "<Figure size 960x480 with 2 Axes>"
            ],
            "image/png": "[encoded data removed]"
          },
          "metadata": {
            "needs_background": "light"
          }
        }
      ]
    },
    {
      "cell_type": "markdown",
      "source": [
        "# **Answer for Question:03**"
      ],
      "metadata": {
        "id": "kgpjGxp_5Nc2"
      }
    },
    {
      "cell_type": "markdown",
      "source": [
        "1.The size of the validation set according to the graphs obtained from the experiment would be 15% of the total training dataset we have. Usually also the values for the validation dataset are made from 10 to 25% of the training data as per the size of the total training data that we have for the experiment.\n",
        "\n",
        "2.The model needs a fairly large dataset for it to be trained well and understand the data features, but it may lead to overfitting of the model so to reduce the chances of overfitting we need a validation set which in itself is small because larger values may lead to overfitting on even the validation dataset itself.\n",
        "\n",
        "3.A very small values of validation dataset less than 10% may be insufficient to serve as a measure to check overfitting or to increase test accuracy.\n",
        "\n"
      ],
      "metadata": {
        "id": "vscuwO865iCG"
      }
    },
    {
      "cell_type": "markdown",
      "metadata": {
        "id": "PnYvkAZLQY7h"
      },
      "source": [
        "## Multiple Splits\n",
        "\n",
        "One way to get more accurate estimates for the test accuracy is by using <b>crossvalidation</b>. Here, we will try a simple version, where we do multiple train/val splits and take the average of validation accuracies as the test accuracy estimation. Here is a function for doing this. Note that this function will take a long time to execute. "
      ]
    },
    {
      "cell_type": "code",
      "source": [],
      "metadata": {
        "id": "k-HGXSovYQ1v"
      },
      "execution_count": 31,
      "outputs": []
    },
    {
      "cell_type": "code",
      "metadata": {
        "id": "E4nGCUQXBTzo"
      },
      "source": [
        "# you can use this function for random classifier also\n",
        "def AverageAccuracy(alldata, alllabel, splitpercent, iterations, classifier=NN):\n",
        "  accuracy = 0\n",
        "  for ii in range(iterations):\n",
        "    traindata, trainlabel, valdata, vallabel = split(alldata, alllabel, splitpercent)\n",
        "    valpred = classifier(traindata, trainlabel, valdata)\n",
        "    accuracy += Accuracy(vallabel, valpred)\n",
        "  return accuracy/iterations # average of all accuracies"
      ],
      "execution_count": 32,
      "outputs": []
    },
    {
      "cell_type": "code",
      "metadata": {
        "id": "H3qtNar7Bbik",
        "colab": {
          "base_uri": "https://localhost:8080/"
        },
        "outputId": "a294aaf8-e319-436e-cb2e-4be04eb4ae18"
      },
      "source": [
        "print('Average validation accuracy is ', AverageAccuracy(alltraindata, alltrainlabel, 75/100, 10, classifier=NN))\n",
        "testpred = NN(alltraindata, alltrainlabel, testdata)\n",
        "print('test accuracy is ',Accuracy(testlabel, testpred) )"
      ],
      "execution_count": 33,
      "outputs": [
        {
          "output_type": "stream",
          "name": "stdout",
          "text": [
            "Average validation accuracy is  0.3433913404726202\n",
            "test accuracy is  0.3446139180171592\n"
          ]
        }
      ]
    },
    {
      "cell_type": "markdown",
      "metadata": {
        "id": "33GIn4x5VH-d"
      },
      "source": [
        "This is a very simple way of doing cross-validation. There are many well-known algorithms for cross-validation, like k-fold cross-validation, leave-one-out etc. This will be covered in detail in a later module. For more information about cross-validation, check <a href=https://en.wikipedia.org/wiki/Cross-validation_(statistics)>Cross-validatioin (Wikipedia)</a>\n",
        "\n",
        "### Questions\n",
        "1. Does averaging the validation accuracy across multiple splits give more consistent results?\n",
        "2. Does it give more accurate estimate of test accuracy?\n",
        "3. What is the effect of the number of iterations on the estimate? Do we get a better estimate with higher iterations?\n",
        "4. Consider the results you got for the previous questions. Can we deal with a very small train dataset or validation dataset by increasing the iterations?\n"
      ]
    },
    {
      "cell_type": "markdown",
      "source": [
        "# **Answer for Question:01**"
      ],
      "metadata": {
        "id": "deEEXEri6dmR"
      }
    },
    {
      "cell_type": "markdown",
      "source": [
        "As we know that training the model using the dataset will always give newer results but slight difference in test and validation accuracy. To get a validation accuracy which is an average of certain number of times we trained the model will surely give us good and consistent results. Because the value will be obtained by many different values of accuracy over a number of iteration for which the model is being trained.\n",
        "\n"
      ],
      "metadata": {
        "id": "Wbw2p2Yg6l9O"
      }
    },
    {
      "cell_type": "markdown",
      "source": [
        "# **Answer for Question:02**"
      ],
      "metadata": {
        "id": "B5NfLWfL6x3J"
      }
    },
    {
      "cell_type": "markdown",
      "source": [
        "If the average validation accuracy is good than we can say that the model will perform well on the test accuracy. Better the value of validation accuracy better will be the test accuracy. The test accuracy will be lower than validation accuracy but will not abrubtly give great variation in accuracy, until the test data has large variation in values than on which the model is trained."
      ],
      "metadata": {
        "id": "vRlSx8KD7H3b"
      }
    },
    {
      "cell_type": "markdown",
      "source": [
        "# **Answer for Question:03**"
      ],
      "metadata": {
        "id": "5iiXnPSq7OQ7"
      }
    },
    {
      "cell_type": "code",
      "source": [
        "def AverageAccuracy(alldata, alllabel, splitpercent, iterations, classifier=NN):\n",
        "  accuracy = 0\n",
        "  for ii in range(iterations):\n",
        "    traindata, trainlabel, valdata, vallabel = split(alldata, alllabel, splitpercent)\n",
        "    valpred = classifier(traindata, trainlabel, valdata)\n",
        "    accuracy += Accuracy(vallabel, valpred)\n",
        "  return accuracy/iterations"
      ],
      "metadata": {
        "id": "sxvEpVEs7WhA"
      },
      "execution_count": 34,
      "outputs": []
    },
    {
      "cell_type": "code",
      "source": [
        "def Accuracy(gtlabel, predlabel):\n",
        "  assert len(gtlabel)==len(predlabel), \"Length of the groundtruth labels and predicted labels should be the same\"\n",
        "  correct = (gtlabel==predlabel).sum() # count the number of times the groundtruth label is equal to the predicted label.\n",
        "  return correct/len(gtlabel)"
      ],
      "metadata": {
        "id": "QUiUsufn7jz_"
      },
      "execution_count": 35,
      "outputs": []
    },
    {
      "cell_type": "code",
      "source": [
        "def getAccuracyDetails(iterationVal):\n",
        "  accValData = []\n",
        "  accTestData = []\n",
        "  iterations = []\n",
        "  for i in range(10, iterationVal, 10):\n",
        "    print('Predicting for Iteration ', i)\n",
        "    avgValAccuracy = AverageAccuracy(alltraindata, alltrainlabel, 75/100, i, classifier = NN)\n",
        "    testPred = NN(alltraindata, alltrainlabel, testdata)\n",
        "    avgTestAccuracy = Accuracy(testlabel, testPred)\n",
        "    iterations.append(i)\n",
        "    accValData.append(avgValAccuracy)\n",
        "    accTestData.append(avgTestAccuracy)\n",
        "  return iterations, accValData, accTestData"
      ],
      "metadata": {
        "id": "6nfwrLcx7o8k"
      },
      "execution_count": 36,
      "outputs": []
    },
    {
      "cell_type": "code",
      "source": [
        "iterations, accValData, accTestData = getAccuracyDetails(51)\n"
      ],
      "metadata": {
        "id": "30YfQGXt7wae",
        "outputId": "00a0a4ea-83ae-4d43-acf1-b7459c682183",
        "colab": {
          "base_uri": "https://localhost:8080/"
        }
      },
      "execution_count": 37,
      "outputs": [
        {
          "output_type": "stream",
          "name": "stdout",
          "text": [
            "Predicting for Iteration  10\n",
            "Predicting for Iteration  20\n",
            "Predicting for Iteration  30\n",
            "Predicting for Iteration  40\n",
            "Predicting for Iteration  50\n"
          ]
        }
      ]
    },
    {
      "cell_type": "code",
      "source": [
        "plt.scatter(iterations, accValData)\n",
        "plt.plot(iterations, accValData, label = \"Val accuracy\")\n",
        "plt.xlabel(\"Iterations\")\n",
        "plt.ylabel(\"Accuracy\")\n",
        "\n",
        "plt.scatter(iterations, accTestData)\n",
        "plt.plot(iterations, accTestData, label = \"Test accuracy\")\n",
        "plt.title(\"Iteration VS Accuracy\")\n",
        "plt.legend()\n",
        "\n",
        "plt.show()\n"
      ],
      "metadata": {
        "id": "6rbZfoeQ9-SC",
        "outputId": "d5fd754e-bba4-49e5-f408-bed22944931d",
        "colab": {
          "base_uri": "https://localhost:8080/",
          "height": 295
        }
      },
      "execution_count": 38,
      "outputs": [
        {
          "output_type": "display_data",
          "data": {
            "text/plain": [
              "<Figure size 432x288 with 1 Axes>"
            ],
            "image/png": "[encoded data removed]"
          },
          "metadata": {
            "needs_background": "light"
          }
        }
      ]
    },
    {
      "cell_type": "markdown",
      "source": [
        "Consider the results you got for the previous questions. Can we deal with a very small train dataset or validation dataset by increasing the iterations?\n",
        "\n",
        "The accuracy of the model increses with the increase in number of iterations. But with a very large number of iteration there are chances of overfitting so we need to find an optimal value of iterations on the basis of what model and dataset are we working on"
      ],
      "metadata": {
        "id": "nq1mXdI9_DpC"
      }
    },
    {
      "cell_type": "code",
      "source": [
        "traindata, trainlabel, valdata, vallabel = split(alltraindata, alltrainlabel, 70/100)\n",
        "traindata, trainlabel, valdata, vallabel = split(traindata, trainlabel, 70/100)\n",
        "traindata, trainlabel, valdata, vallabel = split(traindata, trainlabel, 70/100)\n"
      ],
      "metadata": {
        "id": "9fiqmCkg_Jcj"
      },
      "execution_count": 39,
      "outputs": []
    },
    {
      "cell_type": "code",
      "source": [
        "traindata.shape"
      ],
      "metadata": {
        "id": "3RsEHnA2_T0K",
        "outputId": "e23c1895-daff-49ba-bb49-83ecbeb51317",
        "colab": {
          "base_uri": "https://localhost:8080/"
        }
      },
      "execution_count": 40,
      "outputs": [
        {
          "output_type": "execute_result",
          "data": {
            "text/plain": [
              "(5591, 8)"
            ]
          },
          "metadata": {},
          "execution_count": 40
        }
      ]
    },
    {
      "cell_type": "code",
      "source": [
        "valdata.shape"
      ],
      "metadata": {
        "id": "ubEEEj8J_a-B",
        "outputId": "845cbc4a-3ba1-492c-fcc4-b75a1604149f",
        "colab": {
          "base_uri": "https://localhost:8080/"
        }
      },
      "execution_count": 41,
      "outputs": [
        {
          "output_type": "execute_result",
          "data": {
            "text/plain": [
              "(2399, 8)"
            ]
          },
          "metadata": {},
          "execution_count": 41
        }
      ]
    },
    {
      "cell_type": "markdown",
      "source": [
        "Now we have a small training dataset and validation set lets check if the values are still good for different iterations or not"
      ],
      "metadata": {
        "id": "jo--WYYU_r8p"
      }
    },
    {
      "cell_type": "code",
      "source": [
        "def getAccuracyDetails(iterationVal):\n",
        "  accValData = []\n",
        "  accTestData = []\n",
        "  iterations = []\n",
        "  for i in range(10, iterationVal, 10):\n",
        "    print('Predicting for Iteration ', i)\n",
        "    avgValAccuracy = AverageAccuracy(traindata, trainlabel, 75/100, i, classifier = NN)\n",
        "    testPred = NN(traindata, trainlabel, testdata)\n",
        "    avgTestAccuracy = Accuracy(testlabel, testPred)\n",
        "    iterations.append(i)\n",
        "    accValData.append(avgValAccuracy)\n",
        "    accTestData.append(avgTestAccuracy)\n",
        "  return iterations, accValData, accTestData\n"
      ],
      "metadata": {
        "id": "XoqdRdHj_0RL"
      },
      "execution_count": 42,
      "outputs": []
    },
    {
      "cell_type": "code",
      "source": [
        "iterations, accValData, accTestData = getAccuracyDetails(51)\n"
      ],
      "metadata": {
        "id": "BsUbwD3C_8b8",
        "outputId": "d0216aa5-4772-4056-c03f-187ef6fdc096",
        "colab": {
          "base_uri": "https://localhost:8080/"
        }
      },
      "execution_count": 43,
      "outputs": [
        {
          "output_type": "stream",
          "name": "stdout",
          "text": [
            "Predicting for Iteration  10\n",
            "Predicting for Iteration  20\n",
            "Predicting for Iteration  30\n",
            "Predicting for Iteration  40\n",
            "Predicting for Iteration  50\n"
          ]
        }
      ]
    },
    {
      "cell_type": "code",
      "source": [
        "plt.scatter(iterations, accValData)\n",
        "plt.plot(iterations, accValData, label = \"Val accuracy\")\n",
        "plt.xlabel(\"Iterations\")\n",
        "plt.ylabel(\"Accuracy\")\n",
        "\n",
        "plt.scatter(iterations, accTestData)\n",
        "plt.plot(iterations, accTestData, label = \"Test accuracy\")\n",
        "plt.title(\"Iteration VS Accuracy\")\n",
        "plt.legend()\n",
        "\n",
        "plt.show()\n"
      ],
      "metadata": {
        "id": "KdwakjIcAVpA",
        "outputId": "a0668c0a-8c7a-4315-cf08-029e934ef568",
        "colab": {
          "base_uri": "https://localhost:8080/",
          "height": 295
        }
      },
      "execution_count": 44,
      "outputs": [
        {
          "output_type": "display_data",
          "data": {
            "text/plain": [
              "<Figure size 432x288 with 1 Axes>"
            ],
            "image/png": "[encoded data removed]"
          },
          "metadata": {
            "needs_background": "light"
          }
        }
      ]
    },
    {
      "cell_type": "markdown",
      "source": [
        "we can see that with less data the accuracy of the validation set is less as compared with the time when the dataset size was more. Here in our case it doesn't effect much as we are using a classifier based on neighbor. But if we were to use a model for extracting the features and than use those features to predict and value, and save the now obtained weights than we might get lesser accuracy as we go on decreasing the data size, number of iteration helps the model to understand the data and find features or values to improve its accuracy so if we decrease the number of datasets and increase the iteration it will helps uptil a certain point and than will start decreasing as the model will start to overfit. But its a good choice to increase the iterations if dataset is small\n",
        "\n"
      ],
      "metadata": {
        "id": "Vq2fAOXBAeoF"
      }
    },
    {
      "cell_type": "markdown",
      "source": [
        "## Now let us see how augmentation affects accuracy. We will pick components from what we studied in the last module"
      ],
      "metadata": {
        "id": "UUft9G1acwlB"
      }
    },
    {
      "cell_type": "markdown",
      "source": [
        "we will experiment with MNIST dataset\n"
      ],
      "metadata": {
        "id": "XtU3AfVDkkYM"
      }
    },
    {
      "cell_type": "code",
      "source": [
        "import numpy as np\n",
        "import matplotlib.pyplot as plt\n",
        "from keras.datasets import mnist\n",
        "# set randomseed\n",
        "rng = np.random.default_rng(seed=42)\n",
        "from sklearn.utils.extmath import cartesian\n",
        "from skimage.transform import rotate, AffineTransform, warp\n",
        "import math\n",
        "\n",
        "#loading the dataset\n",
        "(train_X, train_y), (test_X, test_y) = mnist.load_data()\n",
        "\n",
        "print(train_X[0].shape,train_y[0])\n",
        "\n"
      ],
      "metadata": {
        "colab": {
          "base_uri": "https://localhost:8080/"
        },
        "id": "47HIwFsMkebm",
        "outputId": "294f3d22-0570-47a1-e291-6ab3bd784b23"
      },
      "execution_count": 45,
      "outputs": [
        {
          "output_type": "stream",
          "name": "stdout",
          "text": [
            "Downloading data from https://storage.googleapis.com/tensorflow/tf-keras-datasets/mnist.npz\n",
            "11490434/11490434 [==============================] - 0s 0us/step\n",
            "(28, 28) 5\n"
          ]
        }
      ]
    },
    {
      "cell_type": "code",
      "source": [
        "train_X = train_X/255\n",
        "test_X = test_X/255\n",
        "\n",
        "#train_X[0].shape, train_X[0]"
      ],
      "metadata": {
        "id": "WW6ZGBcTkyXB"
      },
      "execution_count": 46,
      "outputs": []
    },
    {
      "cell_type": "code",
      "source": [
        "train_X = train_X[::1200,:,:].copy() # subsample. Otherwise it will take too long!\n",
        "train_y = train_y[::1200].copy() # do the same to the labels"
      ],
      "metadata": {
        "id": "64ATS9mtk_mA"
      },
      "execution_count": 47,
      "outputs": []
    },
    {
      "cell_type": "code",
      "metadata": {
        "id": "1WileBUqC404"
      },
      "source": [
        "## Augmentation functions:\n",
        "\n",
        "\n",
        "\n",
        "def augRotate(sample, angleconstraint):\n",
        "  if angleconstraint==0:\n",
        "    return sample\n",
        "\n",
        "  print(\"shape of sample before is:\", sample.shape)\n",
        "  print(\"len(sample.shape)\", len(sample.shape))\n",
        "  if len(sample.shape)==2:\n",
        "    sample = np.expand_dims(sample, 0)  # make sure the sample is 3 dimensional\n",
        "    print(\"shape of sample is:\", sample.shape)\n",
        "  angle = rng.random(len(sample)) # generate random numbers for angles\n",
        "  print(\"angle is:\", angle)\n",
        "  angle = (angle-0.5)*angleconstraint # make the random angle constrained\n",
        "  print(\"angle with constraint is:\", angle)\n",
        "  nsample = sample.copy() # preallocate the augmented array to make it faster\n",
        "  for ii in range(len(sample)):\n",
        "    nsample[ii] = rotate(sample[ii], angle[ii])\n",
        "  return np.squeeze(nsample) # take care if the input had only one sample.\n",
        "\n",
        "\n",
        "def NN1(traindata, trainlabel, query):\n",
        "  diff  = traindata - query  # find the difference between features. Numpy automatically takes care of the size here \n",
        "  sq = diff*diff # square the differences\n",
        "  dist = sq.sum(1) # add up the squares\n",
        "  label = trainlabel[np.argmin(dist)] # our predicted label is the label of the training data which has the least distance from the query\n",
        "  return label\n",
        "\n",
        "def NN(traindata, trainlabel, testdata):\n",
        "  # we will run nearest neighbour for each sample in the test data \n",
        "  # and collect the predicted classes in an array using list comprehension\n",
        "  traindata = traindata.reshape(-1, 28*28)\n",
        "  testdata = testdata.reshape(-1,28*28)\n",
        "  predlabel = np.array([NN1(traindata, trainlabel, i) for i in testdata])\n",
        "  return predlabel\n",
        "\n",
        "def Accuracy(gtlabel, predlabel):\n",
        "  assert len(gtlabel)==len(predlabel), \"Length of the groundtruth labels and predicted labels should be the same\"\n",
        "  correct = (gtlabel==predlabel).sum() # count the number of times the groundtruth label is equal to the predicted label.\n",
        "  return correct/len(gtlabel)"
      ],
      "execution_count": 48,
      "outputs": []
    },
    {
      "cell_type": "code",
      "source": [
        "def shear(sample, amount):\n",
        "  tform = AffineTransform(shear = amount) # create the shear transform\n",
        "  img = warp(sample, tform) # apply the shear\n",
        "  # this makes the digit off-center. Since all the images in the test set are centralized, we will do the same here\n",
        "  col = img.sum(0).nonzero()[0]\n",
        "  row = img.sum(1).nonzero()[0]\n",
        "  if len(col)>0 and len(row)>0:\n",
        "    xshift = int(sample.shape[0]/2 - (row[0]+row[-1])/2)\n",
        "    yshift = int(sample.shape[1]/2 - (col[0]+col[-1])/2)\n",
        "    img = np.roll(img, (xshift, yshift),(0,1))\n",
        "  return img\n",
        "\n",
        "def augShear(sample, shearconstraint):\n",
        "  if shearconstraint==0:\n",
        "    return sample\n",
        "  if len(sample.shape)==2:\n",
        "    sample = np.expand_dims(sample, 0)  # make sure the sample is 3 dimensional\n",
        "  amt = rng.random(len(sample)) # generate random numbers for shear\n",
        "  amt = (amt-0.5)*shearconstraint # make the random shear constrained\n",
        "  nsample = sample.copy() # preallocate the augmented array to make it faster\n",
        "  for ii in range(len(sample)):\n",
        "    nsample[ii] = shear(sample[ii], amt[ii])\n",
        "  return np.squeeze(nsample) # take care if the input had only one sample.\n",
        "\n",
        "\n"
      ],
      "metadata": {
        "id": "BIsZ_Q5LqWEs"
      },
      "execution_count": 49,
      "outputs": []
    },
    {
      "cell_type": "markdown",
      "source": [
        "In this lab, we will use the image pixels themselves as features, instead of extracting features. Each image has 28*28 pixels, so we will flatten them to 784 pixels to use as features. Note that this is very compute intensive and will take a long time.\n",
        "\n",
        "Let us check the baseline accuracy on the test set without any augmentations. We hope that adding augmentations will help us to get better results."
      ],
      "metadata": {
        "id": "vAFpOzQFj-2r"
      }
    },
    {
      "cell_type": "code",
      "source": [
        "testpred = NN(train_X, train_y, test_X)\n",
        "print('Baseline accuracy without augmentation is ', Accuracy(test_y, testpred))"
      ],
      "metadata": {
        "colab": {
          "base_uri": "https://localhost:8080/"
        },
        "id": "dPNdNyFVj4pX",
        "outputId": "58acdb51-8f77-4a3b-9097-8d6618bda7b5"
      },
      "execution_count": 50,
      "outputs": [
        {
          "output_type": "stream",
          "name": "stdout",
          "text": [
            "Baseline accuracy without augmentation is  0.6472\n"
          ]
        }
      ]
    },
    {
      "cell_type": "markdown",
      "source": [
        "Let us try to improve this accuracy using augmentations. When we create augmentations, we have to make sure that the changes reflect what will naturally occur in the dataset. For example, we should not add colour to our samples as an augmentation because they do not naturally occur. We should not also flip the images in MNIST, because flipped images have different meanings for digits."
      ],
      "metadata": {
        "id": "MckdgpPflSYh"
      }
    },
    {
      "cell_type": "markdown",
      "source": [
        "# **Augmentation 1:rotation**"
      ],
      "metadata": {
        "id": "XicQkGQlBH--"
      }
    },
    {
      "cell_type": "markdown",
      "source": [
        "Let us try rotating the image a little. We will use skimage library for this."
      ],
      "metadata": {
        "id": "BQLa-O1kBQl6"
      }
    },
    {
      "cell_type": "code",
      "source": [
        "plt.imshow(train_X[2], cmap='gray')\n",
        "plt.show()\n",
        "plt.imshow(rotate(train_X[2],45), cmap='gray')"
      ],
      "metadata": {
        "id": "3IW4tnTrBVlj",
        "outputId": "4b0e2596-fc90-43bd-b708-10a9cd638d03",
        "colab": {
          "base_uri": "https://localhost:8080/",
          "height": 530
        }
      },
      "execution_count": 51,
      "outputs": [
        {
          "output_type": "display_data",
          "data": {
            "text/plain": [
              "<Figure size 432x288 with 1 Axes>"
            ],
            "image/png": "[encoded data removed]"
          },
          "metadata": {
            "needs_background": "light"
          }
        },
        {
          "output_type": "execute_result",
          "data": {
            "text/plain": [
              "<matplotlib.image.AxesImage at 0x7f94f542ba90>"
            ]
          },
          "metadata": {},
          "execution_count": 51
        },
        {
          "output_type": "display_data",
          "data": {
            "text/plain": [
              "<Figure size 432x288 with 1 Axes>"
            ],
            "image/png": "[encoded data removed]"
          },
          "metadata": {
            "needs_background": "light"
          }
        }
      ]
    },
    {
      "cell_type": "markdown",
      "source": [
        "After rotating, the the class of the image is still the same. Let us make a function to rotate multiple images by random angles. We want a slightly different image every time we run this function. So, we generate a random number between 0 and 1 and change it so that it lies between -constraint/2 and +constraint/2\n",
        "\n"
      ],
      "metadata": {
        "id": "N_Rz_9G9BtMU"
      }
    },
    {
      "cell_type": "code",
      "source": [
        "def augRotate(sample, angleconstraint):\n",
        "  if angleconstraint==0:\n",
        "    return sample\n",
        "  if len(sample.shape)==2:\n",
        "    sample = np.expand_dims(sample, 0)  # make sure the sample is 3 dimensional\n",
        "  angle = rng.random(len(sample)) # generate random numbers for angles\n",
        "  angle = (angle-0.5)*angleconstraint # make the random angle constrained\n",
        "  nsample = sample.copy() # preallocate the augmented array to make it faster\n",
        "  for ii in range(len(sample)):\n",
        "    nsample[ii] = rotate(sample[ii], angle[ii])\n",
        "  return np.squeeze(nsample) # take care if the input had only one sample.\n"
      ],
      "metadata": {
        "id": "kz3NM93XBznR"
      },
      "execution_count": 52,
      "outputs": []
    },
    {
      "cell_type": "markdown",
      "source": [
        "\n",
        "This function returns a slightly different image each time we call it. So we can increase the number of images in the sample by any multiple.\n"
      ],
      "metadata": {
        "id": "-8sbM55RB--H"
      }
    },
    {
      "cell_type": "code",
      "source": [
        "sample = train_X[20]\n",
        "angleconstraint = 70\n",
        "# show the original image\n",
        "plt.imshow(sample, cmap='gray')\n",
        "plt.show()\n",
        "plt.subplot(1,3,1)\n",
        "plt.imshow(augRotate(sample, angleconstraint), cmap='gray') # show an augmented image\n",
        "plt.subplot(1,3,2)\n",
        "plt.imshow(augRotate(sample, angleconstraint), cmap='gray') # show another augmented image from the same sample\n",
        "plt.subplot(1,3,3)\n",
        "plt.imshow(augRotate(sample, angleconstraint), cmap='gray') # one more image from the same sample\n"
      ],
      "metadata": {
        "id": "KeAxev8sCNpI",
        "outputId": "758e2d90-b197-46dd-af1c-255ca744fa66",
        "colab": {
          "base_uri": "https://localhost:8080/",
          "height": 414
        }
      },
      "execution_count": 53,
      "outputs": [
        {
          "output_type": "display_data",
          "data": {
            "text/plain": [
              "<Figure size 432x288 with 1 Axes>"
            ],
            "image/png": "[encoded data removed]"
          },
          "metadata": {
            "needs_background": "light"
          }
        },
        {
          "output_type": "execute_result",
          "data": {
            "text/plain": [
              "<matplotlib.image.AxesImage at 0x7f94f52c4350>"
            ]
          },
          "metadata": {},
          "execution_count": 53
        },
        {
          "output_type": "display_data",
          "data": {
            "text/plain": [
              "<Figure size 432x288 with 3 Axes>"
            ],
            "image/png": "[encoded data removed]"
          },
          "metadata": {
            "needs_background": "light"
          }
        }
      ]
    },
    {
      "cell_type": "markdown",
      "source": [
        "Let us augment the whole dataset and see if this improves the test accuracy"
      ],
      "metadata": {
        "id": "7aWfHHggmqu7"
      }
    },
    {
      "cell_type": "code",
      "source": [
        "# hyperparameters\n",
        "angleconstraint = 60\n",
        "naugmentations = 5\n",
        "\n",
        "# augment\n",
        "augdata = train_X # we include the original images also in the augmented dataset\n",
        "auglabel = train_y\n",
        "for ii in range(naugmentations):\n",
        "  augdata = np.concatenate((augdata, augRotate(train_X, angleconstraint))) # concatenate the augmented data to the set\n",
        "  auglabel = np.concatenate((auglabel, train_y))  # the labels don't change when we augment\n",
        "\n",
        "# check the test accuracy\n",
        "testpred = NN(augdata, auglabel, test_X)\n",
        "print('Accuracy after rotation augmentation is ', Accuracy(test_y, testpred))"
      ],
      "metadata": {
        "colab": {
          "base_uri": "https://localhost:8080/"
        },
        "id": "Kdn0TZ_tlMg3",
        "outputId": "0685201c-caef-4126-f53c-2d3cd42c6b9a"
      },
      "execution_count": 54,
      "outputs": [
        {
          "output_type": "stream",
          "name": "stdout",
          "text": [
            "Accuracy after rotation augmentation is  0.6616\n"
          ]
        }
      ]
    },
    {
      "cell_type": "markdown",
      "source": [
        "The angle constraint is a hyperparameter which we have to tune using a validation set. (Here we are not doing that for time constraints). Let us try a grid search to find the best angle constraint."
      ],
      "metadata": {
        "id": "R6vwKYxNnjvS"
      }
    },
    {
      "cell_type": "code",
      "source": [
        "angleconstraints = [0,10,20,30,40,50,60,70,80,90] # the values we want to test\n",
        "accuracies = np.zeros(len(angleconstraints), dtype=np.float) # we will save the values here\n",
        "\n",
        "for ii in range(len(angleconstraints)):\n",
        "  # create the augmented dataset\n",
        "  augdata = train_X # we include the original images also in the augmented dataset\n",
        "  auglabel = train_y\n",
        "  for jj in range(naugmentations):\n",
        "    augdata = np.concatenate((augdata, augRotate(train_X, angleconstraints[ii]))) # concatenate the augmented data to the set\n",
        "    auglabel = np.concatenate((auglabel, train_y))  # the labels don't change when we augment\n",
        "\n",
        "  # check the test accuracy\n",
        "  testpred = NN(augdata, auglabel, test_X)\n",
        "  accuracies[ii] = Accuracy(test_y, testpred)\n",
        "  print('Accuracy after rotation augmentation constrained by ',angleconstraints[ii], ' is ', accuracies[ii], flush=True)"
      ],
      "metadata": {
        "colab": {
          "base_uri": "https://localhost:8080/"
        },
        "id": "2TuE7cTCnZ9g",
        "outputId": "edb190de-b964-47d2-fb46-a5cc37ecffe5"
      },
      "execution_count": 55,
      "outputs": [
        {
          "output_type": "stream",
          "name": "stderr",
          "text": [
            "/usr/local/lib/python3.7/dist-packages/ipykernel_launcher.py:2: DeprecationWarning: `np.float` is a deprecated alias for the builtin `float`. To silence this warning, use `float` by itself. Doing this will not modify any behavior and is safe. If you specifically wanted the numpy scalar type, use `np.float64` here.\n",
            "Deprecated in NumPy 1.20; for more details and guidance: https://numpy.org/devdocs/release/1.20.0-notes.html#deprecations\n",
            "  \n"
          ]
        },
        {
          "output_type": "stream",
          "name": "stdout",
          "text": [
            "Accuracy after rotation augmentation constrained by  0  is  0.6472\n",
            "Accuracy after rotation augmentation constrained by  10  is  0.6727\n",
            "Accuracy after rotation augmentation constrained by  20  is  0.673\n",
            "Accuracy after rotation augmentation constrained by  30  is  0.6737\n",
            "Accuracy after rotation augmentation constrained by  40  is  0.6731\n",
            "Accuracy after rotation augmentation constrained by  50  is  0.6701\n",
            "Accuracy after rotation augmentation constrained by  60  is  0.6675\n",
            "Accuracy after rotation augmentation constrained by  70  is  0.661\n",
            "Accuracy after rotation augmentation constrained by  80  is  0.6462\n",
            "Accuracy after rotation augmentation constrained by  90  is  0.6469\n"
          ]
        }
      ]
    },
    {
      "cell_type": "code",
      "source": [
        "angleconstraints = [30] # the values we want to test\n",
        "accuracies = np.zeros(len(angleconstraints), dtype=np.float) # we will save the values here\n",
        "\n",
        "for ii in range(len(angleconstraints)):\n",
        "  # create the augmented dataset\n",
        "  augdata = train_X # we include the original images also in the augmented dataset\n",
        "  auglabel = train_y\n",
        "  for jj in range(naugmentations):\n",
        "    augdata = np.concatenate((augdata, augRotate(train_X, angleconstraints[ii]))) # concatenate the augmented data to the set\n",
        "    auglabel = np.concatenate((auglabel, train_y))  # the labels don't change when we augment\n",
        "  print(augdata.shape)\n",
        "  print(train_X.shape)\n",
        "  # check the test accuracy\n",
        "  testpred = NN(augdata, auglabel, test_X)\n",
        "  accuracies[ii] = Accuracy(test_y, testpred)\n",
        "  print('Accuracy after rotation augmentation constrained by ',angleconstraints[ii], ' is ', accuracies[ii], flush=True)\n"
      ],
      "metadata": {
        "id": "PpsWU8MBDW5e",
        "outputId": "3649b118-706b-4a5a-9243-5c580ba769bd",
        "colab": {
          "base_uri": "https://localhost:8080/"
        }
      },
      "execution_count": 56,
      "outputs": [
        {
          "output_type": "stream",
          "name": "stdout",
          "text": [
            "(300, 28, 28)\n",
            "(50, 28, 28)\n"
          ]
        },
        {
          "output_type": "stream",
          "name": "stderr",
          "text": [
            "/usr/local/lib/python3.7/dist-packages/ipykernel_launcher.py:2: DeprecationWarning: `np.float` is a deprecated alias for the builtin `float`. To silence this warning, use `float` by itself. Doing this will not modify any behavior and is safe. If you specifically wanted the numpy scalar type, use `np.float64` here.\n",
            "Deprecated in NumPy 1.20; for more details and guidance: https://numpy.org/devdocs/release/1.20.0-notes.html#deprecations\n",
            "  \n"
          ]
        },
        {
          "output_type": "stream",
          "name": "stdout",
          "text": [
            "Accuracy after rotation augmentation constrained by  30  is  0.6623\n"
          ]
        }
      ]
    },
    {
      "cell_type": "code",
      "source": [],
      "metadata": {
        "id": "ZPOH1A3RnqDr"
      },
      "execution_count": 56,
      "outputs": []
    },
    {
      "cell_type": "markdown",
      "source": [
        "Let us see the best value for angle constraint: (Ideally this should be done on validation set, not test set)"
      ],
      "metadata": {
        "id": "8Le-7VJBoP8K"
      }
    },
    {
      "cell_type": "code",
      "source": [
        "fig = plt.figure()\n",
        "ax = fig.add_axes([0.1, 0.1, 0.8, 0.8]) # main axes\n",
        "# plot the variation of accuracy\n",
        "ax.plot(angleconstraints, accuracies)\n",
        "ax.set_xlabel('angle')\n",
        "ax.set_ylabel('accuracy')\n",
        "# plot the maximum accuracy\n",
        "maxind = np.argmax(accuracies)\n",
        "plt.scatter(angleconstraints[maxind], accuracies[maxind], c='red')"
      ],
      "metadata": {
        "colab": {
          "base_uri": "https://localhost:8080/",
          "height": 309
        },
        "id": "xG__xE-FoQOg",
        "outputId": "bf126107-635c-4e61-892d-ab24f4c55d26"
      },
      "execution_count": 57,
      "outputs": [
        {
          "output_type": "execute_result",
          "data": {
            "text/plain": [
              "<matplotlib.collections.PathCollection at 0x7f94f51de150>"
            ]
          },
          "metadata": {},
          "execution_count": 57
        },
        {
          "output_type": "display_data",
          "data": {
            "text/plain": [
              "<Figure size 432x288 with 1 Axes>"
            ],
            "image/png": "[encoded data removed]"
          },
          "metadata": {
            "needs_background": "light"
          }
        }
      ]
    },
    {
      "cell_type": "markdown",
      "source": [
        "Let us do a grid search to find the best shear constraint."
      ],
      "metadata": {
        "id": "Vfy-LEb-qdUd"
      }
    },
    {
      "cell_type": "code",
      "source": [
        "shearconstraints = [0, 0.2,0.4,0.6,0.8,1.0,1.2,1.4,1.6,1.8,2.0] # the values we want to test\n",
        "accuracies = np.zeros(len(shearconstraints), dtype=np.float) # we will save the values here\n",
        "\n",
        "for ii in range(len(shearconstraints)):\n",
        "  # create the augmented dataset\n",
        "  augdata = train_X # we include the original images also in the augmented dataset\n",
        "  auglabel = train_y\n",
        "  for jj in range(naugmentations):\n",
        "    augdata = np.concatenate((augdata, augShear(train_X, shearconstraints[ii]))) # concatenate the augmented data to the set\n",
        "    auglabel = np.concatenate((auglabel, train_y))  # the labels don't change when we augment\n",
        "\n",
        "  # check the test accuracy\n",
        "  testpred = NN(augdata, auglabel, test_X)\n",
        "  accuracies[ii] = Accuracy(test_y, testpred)\n",
        "  print('Accuracy after shear augmentation constrained by ',shearconstraints[ii], ' is ', accuracies[ii], flush=True)"
      ],
      "metadata": {
        "colab": {
          "base_uri": "https://localhost:8080/"
        },
        "id": "22m9xPrBoSDi",
        "outputId": "d0b16546-ccaf-4a87-c6a2-9bc6ee181198"
      },
      "execution_count": 58,
      "outputs": [
        {
          "output_type": "stream",
          "name": "stderr",
          "text": [
            "/usr/local/lib/python3.7/dist-packages/ipykernel_launcher.py:2: DeprecationWarning: `np.float` is a deprecated alias for the builtin `float`. To silence this warning, use `float` by itself. Doing this will not modify any behavior and is safe. If you specifically wanted the numpy scalar type, use `np.float64` here.\n",
            "Deprecated in NumPy 1.20; for more details and guidance: https://numpy.org/devdocs/release/1.20.0-notes.html#deprecations\n",
            "  \n"
          ]
        },
        {
          "output_type": "stream",
          "name": "stdout",
          "text": [
            "Accuracy after shear augmentation constrained by  0  is  0.6472\n",
            "Accuracy after shear augmentation constrained by  0.2  is  0.6178\n",
            "Accuracy after shear augmentation constrained by  0.4  is  0.6221\n",
            "Accuracy after shear augmentation constrained by  0.6  is  0.647\n",
            "Accuracy after shear augmentation constrained by  0.8  is  0.6553\n",
            "Accuracy after shear augmentation constrained by  1.0  is  0.6498\n",
            "Accuracy after shear augmentation constrained by  1.2  is  0.6345\n",
            "Accuracy after shear augmentation constrained by  1.4  is  0.6398\n",
            "Accuracy after shear augmentation constrained by  1.6  is  0.6499\n",
            "Accuracy after shear augmentation constrained by  1.8  is  0.6319\n",
            "Accuracy after shear augmentation constrained by  2.0  is  0.628\n"
          ]
        }
      ]
    },
    {
      "cell_type": "code",
      "source": [
        "fig = plt.figure()\n",
        "ax = fig.add_axes([0.1, 0.1, 0.8, 0.8]) # main axes\n",
        "# plot the variation of accuracy\n",
        "ax.plot(shearconstraints, accuracies)\n",
        "ax.set_xlabel('angle')\n",
        "ax.set_ylabel('accuracy')\n",
        "# plot the maximum accuracy\n",
        "maxind = np.argmax(accuracies)\n",
        "plt.scatter(shearconstraints[maxind], accuracies[maxind], c='red')"
      ],
      "metadata": {
        "colab": {
          "base_uri": "https://localhost:8080/",
          "height": 309
        },
        "id": "kBBum9xPqglf",
        "outputId": "7e61c647-6929-4b61-fc7d-297e0ff015f4"
      },
      "execution_count": 59,
      "outputs": [
        {
          "output_type": "execute_result",
          "data": {
            "text/plain": [
              "<matplotlib.collections.PathCollection at 0x7f94f5185490>"
            ]
          },
          "metadata": {},
          "execution_count": 59
        },
        {
          "output_type": "display_data",
          "data": {
            "text/plain": [
              "<Figure size 432x288 with 1 Axes>"
            ],
            "image/png": "[encoded data removed]"
          },
          "metadata": {
            "needs_background": "light"
          }
        }
      ]
    },
    {
      "cell_type": "markdown",
      "source": [
        "We can do multiple augmentations at the same time. Here is a function to do both shear and rotation to the sample. In this case, we will have two hyperparameters."
      ],
      "metadata": {
        "id": "88Bu9veestqd"
      }
    },
    {
      "cell_type": "code",
      "source": [
        "def augRotateShear(sample, angleconstraint, shearconstraint):\n",
        "  if len(sample.shape)==2:\n",
        "    sample = np.expand_dims(sample, 0)  # make sure the sample is 3 dimensional\n",
        "  amt = rng.random(len(sample)) # generate random numbers for shear\n",
        "  amt = (amt-0.5)*shearconstraint # make the random shear constrained\n",
        "  angle = rng.random(len(sample)) # generate random numbers for angles\n",
        "  angle = (angle-0.5)*angleconstraint # make the random angle constrained\n",
        "  nsample = sample.copy() # preallocate the augmented array to make it faster\n",
        "  for ii in range(len(sample)):\n",
        "    nsample[ii] = rotate(shear(sample[ii], amt[ii]), angle[ii]) # first apply shear, then rotate\n",
        "  return np.squeeze(nsample) # take care if the input had only one sample."
      ],
      "metadata": {
        "id": "T9CflCiur-lr"
      },
      "execution_count": 60,
      "outputs": []
    },
    {
      "cell_type": "markdown",
      "source": [
        "Since we have two hyperparameters, we have to do the grid search on a 2 dimensional matrix. We can use our previous experience to inform where to search for the best hyperparameters. "
      ],
      "metadata": {
        "id": "-EdNnol9s4NZ"
      }
    },
    {
      "cell_type": "code",
      "source": [
        "shearconstraints = [0, 0.2,0.4,0.6,0.8,1.0,1.2,1.4,1.6] # the values we want to test\n",
        "angleconstraints = [0,10,20,30,40,50,60] # the values we want to test\n",
        "hyp = cartesian((shearconstraints, angleconstraints)) # cartesian product of both\n",
        "\n",
        "accuracies = np.zeros(len(hyp), dtype=np.float) # we will save the values here\n",
        "\n",
        "for ii in range(len(hyp)):\n",
        "  # create the augmented dataset\n",
        "  augdata = train_X # we include the original images also in the augmented dataset\n",
        "  auglabel = train_y\n",
        "  for jj in range(naugmentations):\n",
        "    augdata = np.concatenate((augdata, augRotateShear(train_X, hyp[ii][0], hyp[ii][1]))) # concatenate the augmented data to the set\n",
        "    auglabel = np.concatenate((auglabel, train_y))  # the labels don't change when we augment\n",
        "\n",
        "  # check the test accuracy\n",
        "  testpred = NN(augdata, auglabel, test_X)\n",
        "  accuracies[ii] = Accuracy(test_y, testpred)\n",
        "  print('Accuracy after augmentation shear:',hyp[ii][0], 'angle:',hyp[ii][1], ' is ', accuracies[ii], flush=True)"
      ],
      "metadata": {
        "colab": {
          "base_uri": "https://localhost:8080/"
        },
        "id": "UfmRisY-swyX",
        "outputId": "16fa511a-29a8-40a8-eb65-f180dc374988"
      },
      "execution_count": 61,
      "outputs": [
        {
          "output_type": "stream",
          "name": "stderr",
          "text": [
            "/usr/local/lib/python3.7/dist-packages/ipykernel_launcher.py:5: DeprecationWarning: `np.float` is a deprecated alias for the builtin `float`. To silence this warning, use `float` by itself. Doing this will not modify any behavior and is safe. If you specifically wanted the numpy scalar type, use `np.float64` here.\n",
            "Deprecated in NumPy 1.20; for more details and guidance: https://numpy.org/devdocs/release/1.20.0-notes.html#deprecations\n",
            "  \"\"\"\n"
          ]
        },
        {
          "output_type": "stream",
          "name": "stdout",
          "text": [
            "Accuracy after augmentation shear: 0.0 angle: 0.0  is  0.6332\n",
            "Accuracy after augmentation shear: 0.0 angle: 10.0  is  0.5932\n",
            "Accuracy after augmentation shear: 0.0 angle: 20.0  is  0.5909\n",
            "Accuracy after augmentation shear: 0.0 angle: 30.0  is  0.5856\n",
            "Accuracy after augmentation shear: 0.0 angle: 40.0  is  0.5918\n",
            "Accuracy after augmentation shear: 0.0 angle: 50.0  is  0.5841\n",
            "Accuracy after augmentation shear: 0.0 angle: 60.0  is  0.6096\n",
            "Accuracy after augmentation shear: 0.2 angle: 0.0  is  0.6335\n",
            "Accuracy after augmentation shear: 0.2 angle: 10.0  is  0.6156\n",
            "Accuracy after augmentation shear: 0.2 angle: 20.0  is  0.6103\n",
            "Accuracy after augmentation shear: 0.2 angle: 30.0  is  0.589\n",
            "Accuracy after augmentation shear: 0.2 angle: 40.0  is  0.5847\n",
            "Accuracy after augmentation shear: 0.2 angle: 50.0  is  0.6049\n",
            "Accuracy after augmentation shear: 0.2 angle: 60.0  is  0.6034\n",
            "Accuracy after augmentation shear: 0.4 angle: 0.0  is  0.634\n",
            "Accuracy after augmentation shear: 0.4 angle: 10.0  is  0.5933\n",
            "Accuracy after augmentation shear: 0.4 angle: 20.0  is  0.6136\n",
            "Accuracy after augmentation shear: 0.4 angle: 30.0  is  0.5939\n",
            "Accuracy after augmentation shear: 0.4 angle: 40.0  is  0.6103\n",
            "Accuracy after augmentation shear: 0.4 angle: 50.0  is  0.6017\n",
            "Accuracy after augmentation shear: 0.4 angle: 60.0  is  0.5955\n",
            "Accuracy after augmentation shear: 0.6 angle: 0.0  is  0.6334\n",
            "Accuracy after augmentation shear: 0.6 angle: 10.0  is  0.5793\n",
            "Accuracy after augmentation shear: 0.6 angle: 20.0  is  0.586\n",
            "Accuracy after augmentation shear: 0.6 angle: 30.0  is  0.6273\n",
            "Accuracy after augmentation shear: 0.6 angle: 40.0  is  0.5818\n",
            "Accuracy after augmentation shear: 0.6 angle: 50.0  is  0.5749\n",
            "Accuracy after augmentation shear: 0.6 angle: 60.0  is  0.5955\n",
            "Accuracy after augmentation shear: 0.8 angle: 0.0  is  0.6348\n",
            "Accuracy after augmentation shear: 0.8 angle: 10.0  is  0.6056\n",
            "Accuracy after augmentation shear: 0.8 angle: 20.0  is  0.5937\n",
            "Accuracy after augmentation shear: 0.8 angle: 30.0  is  0.6053\n",
            "Accuracy after augmentation shear: 0.8 angle: 40.0  is  0.6104\n",
            "Accuracy after augmentation shear: 0.8 angle: 50.0  is  0.6246\n",
            "Accuracy after augmentation shear: 0.8 angle: 60.0  is  0.5904\n",
            "Accuracy after augmentation shear: 1.0 angle: 0.0  is  0.6338\n",
            "Accuracy after augmentation shear: 1.0 angle: 10.0  is  0.6111\n",
            "Accuracy after augmentation shear: 1.0 angle: 20.0  is  0.6007\n",
            "Accuracy after augmentation shear: 1.0 angle: 30.0  is  0.5754\n",
            "Accuracy after augmentation shear: 1.0 angle: 40.0  is  0.5584\n",
            "Accuracy after augmentation shear: 1.0 angle: 50.0  is  0.5825\n",
            "Accuracy after augmentation shear: 1.0 angle: 60.0  is  0.6037\n",
            "Accuracy after augmentation shear: 1.2 angle: 0.0  is  0.6363\n",
            "Accuracy after augmentation shear: 1.2 angle: 10.0  is  0.5996\n",
            "Accuracy after augmentation shear: 1.2 angle: 20.0  is  0.5976\n",
            "Accuracy after augmentation shear: 1.2 angle: 30.0  is  0.5907\n",
            "Accuracy after augmentation shear: 1.2 angle: 40.0  is  0.6154\n",
            "Accuracy after augmentation shear: 1.2 angle: 50.0  is  0.5597\n",
            "Accuracy after augmentation shear: 1.2 angle: 60.0  is  0.5985\n",
            "Accuracy after augmentation shear: 1.4 angle: 0.0  is  0.6322\n",
            "Accuracy after augmentation shear: 1.4 angle: 10.0  is  0.6091\n",
            "Accuracy after augmentation shear: 1.4 angle: 20.0  is  0.605\n",
            "Accuracy after augmentation shear: 1.4 angle: 30.0  is  0.5818\n",
            "Accuracy after augmentation shear: 1.4 angle: 40.0  is  0.5938\n",
            "Accuracy after augmentation shear: 1.4 angle: 50.0  is  0.6082\n",
            "Accuracy after augmentation shear: 1.4 angle: 60.0  is  0.5886\n",
            "Accuracy after augmentation shear: 1.6 angle: 0.0  is  0.6352\n",
            "Accuracy after augmentation shear: 1.6 angle: 10.0  is  0.5909\n",
            "Accuracy after augmentation shear: 1.6 angle: 20.0  is  0.5958\n",
            "Accuracy after augmentation shear: 1.6 angle: 30.0  is  0.5935\n",
            "Accuracy after augmentation shear: 1.6 angle: 40.0  is  0.5997\n",
            "Accuracy after augmentation shear: 1.6 angle: 50.0  is  0.5783\n",
            "Accuracy after augmentation shear: 1.6 angle: 60.0  is  0.5912\n"
          ]
        }
      ]
    },
    {
      "cell_type": "markdown",
      "source": [
        "Let us plot it two dimensionally to see which is the best value for the hyperparameters:"
      ],
      "metadata": {
        "id": "twI4Tk5etBTE"
      }
    },
    {
      "cell_type": "code",
      "source": [
        "fig = plt.figure()\n",
        "ax = fig.add_axes([0.1, 0.1, 0.8, 0.8]) # main axes\n",
        "im = ax.imshow(accuracies.reshape((len(shearconstraints), len(angleconstraints))), cmap='inferno') \n",
        "ax.set_xlabel('angle')\n",
        "ax.set_ylabel('shear')\n",
        "ax.set_xticks(np.arange(len(angleconstraints)));\n",
        "ax.set_xticklabels(angleconstraints);\n",
        "ax.set_yticks(np.arange(len(shearconstraints)));\n",
        "ax.set_yticklabels(shearconstraints);\n",
        "plt.colorbar(im)"
      ],
      "metadata": {
        "colab": {
          "base_uri": "https://localhost:8080/",
          "height": 309
        },
        "id": "CS8X6jLAs7hW",
        "outputId": "6e9a1eae-e3c8-45ca-c3c9-9ff821bc0ebd"
      },
      "execution_count": 62,
      "outputs": [
        {
          "output_type": "execute_result",
          "data": {
            "text/plain": [
              "<matplotlib.colorbar.Colorbar at 0x7f94f5095fd0>"
            ]
          },
          "metadata": {},
          "execution_count": 62
        },
        {
          "output_type": "display_data",
          "data": {
            "text/plain": [
              "<Figure size 432x288 with 2 Axes>"
            ],
            "image/png": "[encoded data removed]"
          },
          "metadata": {
            "needs_background": "light"
          }
        }
      ]
    },
    {
      "cell_type": "markdown",
      "source": [
        "It seems that rotation and shear don't mix! The best accuracy is when rotation is zero."
      ],
      "metadata": {
        "id": "JRnymka4vnla"
      }
    },
    {
      "cell_type": "markdown",
      "source": [
        "## Questions\n",
        "Try these questions for better understanding. You may not be able to solve all of them. \n",
        "1. What is the best value for angle constraint and shear constraint you got? How much did the accuracy improve as compared to not using augmentations?\n",
        "2. Can you increase the accuracy by increasing the number of augmentations from each sample?\n",
        "3. Try implementing a few augmentations of your own and experimenting with them. A good reference is <a href=https://www.analyticsvidhya.com/blog/2019/12/image-augmentation-deep-learning-pytorch/>here. </a>\n",
        "4. Try combining various augmentations. What is the highest accuracy you can get? What is the smallest training dataset you can take and still get accuracy above 50%?\n",
        "\n",
        "Whenever you do any experiment, a good practice is to vary the hyperparameters gradually and create a graph of your results, like we did for gridsearch. "
      ],
      "metadata": {
        "id": "cU9AxYWJvs_P"
      }
    },
    {
      "cell_type": "markdown",
      "source": [
        "# **Answer for Question:01**"
      ],
      "metadata": {
        "id": "oRnygZD3FCkq"
      }
    },
    {
      "cell_type": "markdown",
      "source": [
        "1.When taking only the hyperparameter angle constraint the highest accuracy obtained was 0.6822 or 68.22% when the angle constraint value was 20, the resulting accuracy is much better than when we didn't apply any augmentation on the dataset. Without augmenation the accuracy was 64.72% 2.When taking only the hyperparameter shear constraint the highest accuracy obtained was 65.66% at 0.8 and the parameter value was 0.8, without augmentation the value of accuracy was 64.72% which wasn't that bad considering the accuracy results obtained for many other higher values of augmentation through shear.\n",
        "3.when using both at the same time in grid search we get the output highest for the shear constraint value of 1.6 and rotate angle of 0, the accuracy obtained is 63.45%,\n",
        "\n",
        "In case of rotation the accuracies was least in case of original data, but was higher for various values of augmentation. In case of shear the accuracies was least at 2.0 value of constraint but in case of original data the accuracy was not that bad. Now decrease in accuracy as we keep on increasing the value of hyperparameter can be because after a certain value the data set is not same at all like roating 7 by 90 degrees or shearing with value of 2 makes the data completely different."
      ],
      "metadata": {
        "id": "mMmKoELLFMg7"
      }
    },
    {
      "cell_type": "code",
      "source": [
        "import pandas as pd"
      ],
      "metadata": {
        "id": "U8vjAkkdvjOk"
      },
      "execution_count": 63,
      "outputs": []
    },
    {
      "cell_type": "code",
      "source": [
        "dataframe = pd.DataFrame(hyp, columns = ['shear','angle'])\n",
        "dataframe['accuracy'] = accuracies\n",
        "dataframe = dataframe.sort_values(by = 'accuracy', ascending = False)\n"
      ],
      "metadata": {
        "id": "GkGhTwvdIEFe"
      },
      "execution_count": 64,
      "outputs": []
    },
    {
      "cell_type": "code",
      "source": [
        "dataframe[:15]"
      ],
      "metadata": {
        "id": "u3-JJo0JILDY",
        "outputId": "c8d89f67-c794-4e6a-cd41-c8645380b0af",
        "colab": {
          "base_uri": "https://localhost:8080/",
          "height": 520
        }
      },
      "execution_count": 65,
      "outputs": [
        {
          "output_type": "execute_result",
          "data": {
            "text/plain": [
              "    shear  angle  accuracy\n",
              "42    1.2    0.0    0.6363\n",
              "56    1.6    0.0    0.6352\n",
              "28    0.8    0.0    0.6348\n",
              "14    0.4    0.0    0.6340\n",
              "35    1.0    0.0    0.6338\n",
              "7     0.2    0.0    0.6335\n",
              "21    0.6    0.0    0.6334\n",
              "0     0.0    0.0    0.6332\n",
              "49    1.4    0.0    0.6322\n",
              "24    0.6   30.0    0.6273\n",
              "33    0.8   50.0    0.6246\n",
              "8     0.2   10.0    0.6156\n",
              "46    1.2   40.0    0.6154\n",
              "16    0.4   20.0    0.6136\n",
              "36    1.0   10.0    0.6111"
            ],
            "text/html": [
              "\n",
              "  <div id=\"df-b06e3871-0061-4531-8260-059ae93846f6\">\n",
              "    <div class=\"colab-df-container\">\n",
              "      <div>\n",
              "<style scoped>\n",
              "    .dataframe tbody tr th:only-of-type {\n",
              "        vertical-align: middle;\n",
              "    }\n",
              "\n",
              "    .dataframe tbody tr th {\n",
              "        vertical-align: top;\n",
              "    }\n",
              "\n",
              "    .dataframe thead th {\n",
              "        text-align: right;\n",
              "    }\n",
              "</style>\n",
              "<table border=\"1\" class=\"dataframe\">\n",
              "  <thead>\n",
              "    <tr style=\"text-align: right;\">\n",
              "      <th></th>\n",
              "      <th>shear</th>\n",
              "      <th>angle</th>\n",
              "      <th>accuracy</th>\n",
              "    </tr>\n",
              "  </thead>\n",
              "  <tbody>\n",
              "    <tr>\n",
              "      <th>42</th>\n",
              "      <td>1.2</td>\n",
              "      <td>0.0</td>\n",
              "      <td>0.6363</td>\n",
              "    </tr>\n",
              "    <tr>\n",
              "      <th>56</th>\n",
              "      <td>1.6</td>\n",
              "      <td>0.0</td>\n",
              "      <td>0.6352</td>\n",
              "    </tr>\n",
              "    <tr>\n",
              "      <th>28</th>\n",
              "      <td>0.8</td>\n",
              "      <td>0.0</td>\n",
              "      <td>0.6348</td>\n",
              "    </tr>\n",
              "    <tr>\n",
              "      <th>14</th>\n",
              "      <td>0.4</td>\n",
              "      <td>0.0</td>\n",
              "      <td>0.6340</td>\n",
              "    </tr>\n",
              "    <tr>\n",
              "      <th>35</th>\n",
              "      <td>1.0</td>\n",
              "      <td>0.0</td>\n",
              "      <td>0.6338</td>\n",
              "    </tr>\n",
              "    <tr>\n",
              "      <th>7</th>\n",
              "      <td>0.2</td>\n",
              "      <td>0.0</td>\n",
              "      <td>0.6335</td>\n",
              "    </tr>\n",
              "    <tr>\n",
              "      <th>21</th>\n",
              "      <td>0.6</td>\n",
              "      <td>0.0</td>\n",
              "      <td>0.6334</td>\n",
              "    </tr>\n",
              "    <tr>\n",
              "      <th>0</th>\n",
              "      <td>0.0</td>\n",
              "      <td>0.0</td>\n",
              "      <td>0.6332</td>\n",
              "    </tr>\n",
              "    <tr>\n",
              "      <th>49</th>\n",
              "      <td>1.4</td>\n",
              "      <td>0.0</td>\n",
              "      <td>0.6322</td>\n",
              "    </tr>\n",
              "    <tr>\n",
              "      <th>24</th>\n",
              "      <td>0.6</td>\n",
              "      <td>30.0</td>\n",
              "      <td>0.6273</td>\n",
              "    </tr>\n",
              "    <tr>\n",
              "      <th>33</th>\n",
              "      <td>0.8</td>\n",
              "      <td>50.0</td>\n",
              "      <td>0.6246</td>\n",
              "    </tr>\n",
              "    <tr>\n",
              "      <th>8</th>\n",
              "      <td>0.2</td>\n",
              "      <td>10.0</td>\n",
              "      <td>0.6156</td>\n",
              "    </tr>\n",
              "    <tr>\n",
              "      <th>46</th>\n",
              "      <td>1.2</td>\n",
              "      <td>40.0</td>\n",
              "      <td>0.6154</td>\n",
              "    </tr>\n",
              "    <tr>\n",
              "      <th>16</th>\n",
              "      <td>0.4</td>\n",
              "      <td>20.0</td>\n",
              "      <td>0.6136</td>\n",
              "    </tr>\n",
              "    <tr>\n",
              "      <th>36</th>\n",
              "      <td>1.0</td>\n",
              "      <td>10.0</td>\n",
              "      <td>0.6111</td>\n",
              "    </tr>\n",
              "  </tbody>\n",
              "</table>\n",
              "</div>\n",
              "      <button class=\"colab-df-convert\" onclick=\"convertToInteractive('df-b06e3871-0061-4531-8260-059ae93846f6')\"\n",
              "              title=\"Convert this dataframe to an interactive table.\"\n",
              "              style=\"display:none;\">\n",
              "        \n",
              "  <svg xmlns=\"http://www.w3.org/2000/svg\" height=\"24px\"viewBox=\"0 0 24 24\"\n",
              "       width=\"24px\">\n",
              "    <path d=\"M0 0h24v24H0V0z\" fill=\"none\"/>\n",
              "    <path d=\"M18.56 5.44l.94 2.06.94-2.06 2.06-.94-2.06-.94-.94-2.06-.94 2.06-2.06.94zm-11 1L8.5 8.5l.94-2.06 2.06-.94-2.06-.94L8.5 2.5l-.94 2.06-2.06.94zm10 10l.94 2.06.94-2.06 2.06-.94-2.06-.94-.94-2.06-.94 2.06-2.06.94z\"/><path d=\"M17.41 7.96l-1.37-1.37c-.4-.4-.92-.59-1.43-.59-.52 0-1.04.2-1.43.59L10.3 9.45l-7.72 7.72c-.78.78-.78 2.05 0 2.83L4 21.41c.39.39.9.59 1.41.59.51 0 1.02-.2 1.41-.59l7.78-7.78 2.81-2.81c.8-.78.8-2.07 0-2.86zM5.41 20L4 18.59l7.72-7.72 1.47 1.35L5.41 20z\"/>\n",
              "  </svg>\n",
              "      </button>\n",
              "      \n",
              "  <style>\n",
              "    .colab-df-container {\n",
              "      display:flex;\n",
              "      flex-wrap:wrap;\n",
              "      gap: 12px;\n",
              "    }\n",
              "\n",
              "    .colab-df-convert {\n",
              "      background-color: #E8F0FE;\n",
              "      border: none;\n",
              "      border-radius: 50%;\n",
              "      cursor: pointer;\n",
              "      display: none;\n",
              "      fill: #1967D2;\n",
              "      height: 32px;\n",
              "      padding: 0 0 0 0;\n",
              "      width: 32px;\n",
              "    }\n",
              "\n",
              "    .colab-df-convert:hover {\n",
              "      background-color: #E2EBFA;\n",
              "      box-shadow: 0px 1px 2px rgba(60, 64, 67, 0.3), 0px 1px 3px 1px rgba(60, 64, 67, 0.15);\n",
              "      fill: #174EA6;\n",
              "    }\n",
              "\n",
              "    [theme=dark] .colab-df-convert {\n",
              "      background-color: #3B4455;\n",
              "      fill: #D2E3FC;\n",
              "    }\n",
              "\n",
              "    [theme=dark] .colab-df-convert:hover {\n",
              "      background-color: #434B5C;\n",
              "      box-shadow: 0px 1px 3px 1px rgba(0, 0, 0, 0.15);\n",
              "      filter: drop-shadow(0px 1px 2px rgba(0, 0, 0, 0.3));\n",
              "      fill: #FFFFFF;\n",
              "    }\n",
              "  </style>\n",
              "\n",
              "      <script>\n",
              "        const buttonEl =\n",
              "          document.querySelector('#df-b06e3871-0061-4531-8260-059ae93846f6 button.colab-df-convert');\n",
              "        buttonEl.style.display =\n",
              "          google.colab.kernel.accessAllowed ? 'block' : 'none';\n",
              "\n",
              "        async function convertToInteractive(key) {\n",
              "          const element = document.querySelector('#df-b06e3871-0061-4531-8260-059ae93846f6');\n",
              "          const dataTable =\n",
              "            await google.colab.kernel.invokeFunction('convertToInteractive',\n",
              "                                                     [key], {});\n",
              "          if (!dataTable) return;\n",
              "\n",
              "          const docLinkHtml = 'Like what you see? Visit the ' +\n",
              "            '<a target=\"_blank\" href=https://colab.research.google.com/notebooks/data_table.ipynb>data table notebook</a>'\n",
              "            + ' to learn more about interactive tables.';\n",
              "          element.innerHTML = '';\n",
              "          dataTable['output_type'] = 'display_data';\n",
              "          await google.colab.output.renderOutput(dataTable, element);\n",
              "          const docLink = document.createElement('div');\n",
              "          docLink.innerHTML = docLinkHtml;\n",
              "          element.appendChild(docLink);\n",
              "        }\n",
              "      </script>\n",
              "    </div>\n",
              "  </div>\n",
              "  "
            ]
          },
          "metadata": {},
          "execution_count": 65
        }
      ]
    },
    {
      "cell_type": "markdown",
      "source": [
        "# **Answer for Question:02**"
      ],
      "metadata": {
        "id": "yWPGW-zOISCB"
      }
    },
    {
      "cell_type": "code",
      "source": [
        "def findAcc(j, angleconstraint = 0):\n",
        "  augdata = train_X\n",
        "  auglabel = train_y\n",
        "  for ii in range(j):\n",
        "    augdata = np.concatenate((augdata, augRotate(train_X, angleconstraint)))\n",
        "    auglabel = np.concatenate((auglabel, train_y))\n",
        "\n",
        "  # check the test accuracy\n",
        "  testpred = NN(augdata, auglabel, test_X)\n",
        "  return Accuracy(test_y, testpred)\n",
        "\n",
        "angleconstraint = 20\n",
        "accuracy = {}\n",
        "for i in range(naugmentations):\n",
        "  for j in range(i):\n",
        "    accuracy[i] = findAcc(j, angleconstraint)\n"
      ],
      "metadata": {
        "id": "Yk2kmnVDIZPM"
      },
      "execution_count": 66,
      "outputs": []
    },
    {
      "cell_type": "code",
      "source": [
        "plt.plot(list(accuracy.keys()), list(accuracy.values()))\n",
        "plt.scatter(list(accuracy.keys()), list(accuracy.values()))\n",
        "plt.xlabel(\"Number of Augmentations\")\n",
        "plt.ylabel(\"Accuracy\")"
      ],
      "metadata": {
        "id": "nUlCw6BEMYzw",
        "outputId": "1b97d8a7-9e2c-44e3-f2cc-aa9055bfbfdc",
        "colab": {
          "base_uri": "https://localhost:8080/",
          "height": 296
        }
      },
      "execution_count": 67,
      "outputs": [
        {
          "output_type": "execute_result",
          "data": {
            "text/plain": [
              "Text(0, 0.5, 'Accuracy')"
            ]
          },
          "metadata": {},
          "execution_count": 67
        },
        {
          "output_type": "display_data",
          "data": {
            "text/plain": [
              "<Figure size 432x288 with 1 Axes>"
            ],
            "image/png": "[encoded data removed]"
          },
          "metadata": {
            "needs_background": "light"
          }
        }
      ]
    },
    {
      "cell_type": "markdown",
      "source": [
        "Above is the plot for number of augmentation vs accuracy for the rotation with angle constraint 20 which we got highest accuracy for previously, and we can see that for higher values of augmentation we got a fairly good result of accuracy so we can say that with increase in number of augmentation the accuracy is increased. But that is not always true as for very higher values like we can see here more than 6 or 7 the accuracy is getting bad."
      ],
      "metadata": {
        "id": "AYEmOTS9MxLf"
      }
    },
    {
      "cell_type": "code",
      "source": [
        "def findAccShear(shearconstraints, naugmentations):\n",
        "  # create the augmented dataset\n",
        "  augdata = train_X # we include the original images also in the augmented dataset\n",
        "  auglabel = train_y\n",
        "  for jj in range(naugmentations):\n",
        "    augdata = np.concatenate((augdata, augShear(train_X, shearconstraints))) # concatenate the augmented data to the set\n",
        "    auglabel = np.concatenate((auglabel, train_y))  # the labels don't change when we augment\n",
        "\n",
        "  # check the test accuracy\n",
        "  testpred = NN(augdata, auglabel, test_X)\n",
        "  return Accuracy(test_y, testpred)\n",
        "\n",
        "#for 0.8 we got highest accuracy so lets try for different augmentation using this value only as constraint\n",
        "shearconstraints = 0.8\n",
        "naugmentations = 10\n",
        "accuracy = {}\n",
        "for i in range(naugmentations):\n",
        "  for j in range(i):\n",
        "    accuracy[i] = findAccShear(shearconstraints,j)"
      ],
      "metadata": {
        "id": "0mzrjaXFNBRY"
      },
      "execution_count": 68,
      "outputs": []
    },
    {
      "cell_type": "code",
      "source": [
        "plt.plot(list(accuracy.keys()), list(accuracy.values()))\n",
        "plt.scatter(list(accuracy.keys()), list(accuracy.values()))\n",
        "plt.xlabel(\"Number of Augmentations\")\n",
        "plt.ylabel(\"Accuracy\")"
      ],
      "metadata": {
        "id": "4MKKbD1yNemI",
        "outputId": "e045791d-9f03-4de5-808c-a79d59d3aad4",
        "colab": {
          "base_uri": "https://localhost:8080/",
          "height": 296
        }
      },
      "execution_count": 69,
      "outputs": [
        {
          "output_type": "execute_result",
          "data": {
            "text/plain": [
              "Text(0, 0.5, 'Accuracy')"
            ]
          },
          "metadata": {},
          "execution_count": 69
        },
        {
          "output_type": "display_data",
          "data": {
            "text/plain": [
              "<Figure size 432x288 with 1 Axes>"
            ],
            "image/png": "[encoded data removed]"
          },
          "metadata": {
            "needs_background": "light"
          }
        }
      ]
    },
    {
      "cell_type": "markdown",
      "source": [
        "An increase in accuracy with the amount of augmentation can also be observed in case of using shear for augmentation.\n",
        "\n"
      ],
      "metadata": {
        "id": "ZQFzkxGiNlNH"
      }
    },
    {
      "cell_type": "markdown",
      "source": [
        "# **Answer for Question no:03**"
      ],
      "metadata": {
        "id": "t26D-YO-NtxK"
      }
    },
    {
      "cell_type": "code",
      "source": [
        "from skimage.util import random_noise\n",
        "def noise(image, factor):\n",
        "  alpha = factor ** 2\n",
        "  image = random_noise(image,var=alpha**2)\n",
        "  return image\n",
        "\n",
        "def augNoise(sample, noiseconstraint):\n",
        "  if noiseconstraint==0:\n",
        "    return sample\n",
        "  if len(sample.shape)==2:\n",
        "    sample = np.expand_dims(sample, 0)\n",
        "  amt = rng.random(len(sample))\n",
        "  amt = (amt)*noiseconstraint\n",
        "  nsample = sample.copy()\n",
        "  for ii in range(len(sample)):\n",
        "    nsample[ii] = noise(sample[ii], amt[ii])\n",
        "  return np.squeeze(nsample)\n",
        "\n",
        "def findAccNoise(noiseconstraints, naugmentations):\n",
        "  # create the augmented dataset\n",
        "  augdata = train_X # we include the original images also in the augmented dataset\n",
        "  auglabel = train_y\n",
        "  for jj in range(naugmentations):\n",
        "    augdata = np.concatenate((augdata, augNoise(train_X, noiseconstraints))) # concatenate the augmented data to the set\n",
        "    auglabel = np.concatenate((auglabel, train_y))  # the labels don't change when we augment\n",
        "  testpred = NN(augdata, auglabel, test_X)\n",
        "  return Accuracy(test_y, testpred)\n",
        "\n",
        "#for 0.8 we got highest accuracy so lets try for different augmentation using this value only as constraint\n",
        "noiseconstraints = [0, 0.1, 0.2, 0.4, 0.6, 0.8, 1.0, 1.2, 1.4, 1.6]\n",
        "naugmentations = 5\n",
        "accuracy = []\n",
        "for i in noiseconstraints:\n",
        "  accuracy.append(findAccNoise(i, naugmentations))\n",
        "# accuracy = {}\n",
        "# for i in range(naugmentations):\n",
        "#   for j in range(i):\n",
        "#     accuracy[i] = findAccNoise(noiseconstraints,j)\n"
      ],
      "metadata": {
        "id": "aHIVQ33BNr-m"
      },
      "execution_count": 70,
      "outputs": []
    },
    {
      "cell_type": "code",
      "source": [
        "plt.plot(noiseconstraints, accuracy)\n",
        "plt.scatter(noiseconstraints, accuracy)\n",
        "plt.xlabel(\"Constraint values\")\n",
        "plt.ylabel(\"Accuracy\")"
      ],
      "metadata": {
        "id": "zBFDRzZzOJQY",
        "outputId": "3bd3e88e-2024-4114-98a3-2abdb494269b",
        "colab": {
          "base_uri": "https://localhost:8080/",
          "height": 296
        }
      },
      "execution_count": 71,
      "outputs": [
        {
          "output_type": "execute_result",
          "data": {
            "text/plain": [
              "Text(0, 0.5, 'Accuracy')"
            ]
          },
          "metadata": {},
          "execution_count": 71
        },
        {
          "output_type": "display_data",
          "data": {
            "text/plain": [
              "<Figure size 432x288 with 1 Axes>"
            ],
            "image/png": "[encoded data removed]"
          },
          "metadata": {
            "needs_background": "light"
          }
        }
      ]
    },
    {
      "cell_type": "code",
      "source": [
        "accuracy = {}\n",
        "naugmentations = 10\n",
        "noiseconstraints = 0.2\n",
        "for i in range(naugmentations):\n",
        "  for j in range(i):\n",
        "    accuracy[i] = findAccNoise(noiseconstraints,j)"
      ],
      "metadata": {
        "id": "kztGJE_hOU3U"
      },
      "execution_count": 72,
      "outputs": []
    },
    {
      "cell_type": "code",
      "source": [
        "plt.plot(list(accuracy.keys()), list(accuracy.values()))\n",
        "plt.scatter(list(accuracy.keys()), list(accuracy.values()))\n",
        "plt.xlabel(\"Number of Augmentations\")\n",
        "plt.ylabel(\"Accuracy\")"
      ],
      "metadata": {
        "id": "U49-zUUlO231",
        "outputId": "83432a09-b7d8-4657-9ade-49063397e146",
        "colab": {
          "base_uri": "https://localhost:8080/",
          "height": 297
        }
      },
      "execution_count": 73,
      "outputs": [
        {
          "output_type": "execute_result",
          "data": {
            "text/plain": [
              "Text(0, 0.5, 'Accuracy')"
            ]
          },
          "metadata": {},
          "execution_count": 73
        },
        {
          "output_type": "display_data",
          "data": {
            "text/plain": [
              "<Figure size 432x288 with 1 Axes>"
            ],
            "image/png": "[encoded data removed]"
          },
          "metadata": {
            "needs_background": "light"
          }
        }
      ]
    },
    {
      "cell_type": "markdown",
      "source": [
        "# **Answer for Question:04**"
      ],
      "metadata": {
        "id": "ViMIucnUO9rC"
      }
    },
    {
      "cell_type": "markdown",
      "source": [
        "General function to make augmented dataset with 2 features to augment"
      ],
      "metadata": {
        "id": "EtyGjD5-PUfu"
      }
    },
    {
      "cell_type": "code",
      "source": [
        "def combinations(sample, angfun1param, angfun2param, augfun1, augfun2):\n",
        "  if len(sample.shape)==2:\n",
        "    sample = np.expand_dims(sample, 0)  # make sure the sample is 3 dimensional\n",
        "  augfun2val = rng.random(len(sample)) # generate random numbers for shear\n",
        "  augfun2val = (augfun2val-0.5)*angfun2param # make the random shear constrained\n",
        "  augfun1val = rng.random(len(sample)) # generate random numbers for angles\n",
        "  augfun1val = (augfun1val-0.5)*angfun1param # make the random angle constrained\n",
        "  nsample = sample.copy() # preallocate the augmented array to make it faster\n",
        "  for ii in range(len(sample)):\n",
        "    nsample[ii] = augfun1(augfun2(sample[ii], augfun2val[ii]), augfun1val[ii]) # first apply shear, then rotate\n",
        "  return np.squeeze(nsample) # take care if the input had only one sample.\n"
      ],
      "metadata": {
        "id": "_x0U-OlzPZp8"
      },
      "execution_count": 74,
      "outputs": []
    },
    {
      "cell_type": "code",
      "source": [
        "shearconstraints =[0,0.75,1.5] # the values we want to test\n",
        "angleconstraints =[30] # the values we want to test\n",
        "noiseconstraints = [0, 0.1,1.0,1.6]\n",
        "hyp1 = list(cartesian((angleconstraints, shearconstraints)))\n",
        "hyp2 = list(cartesian((noiseconstraints, shearconstraints)))\n",
        "hyp3 = list(cartesian((angleconstraints, noiseconstraints)))\n",
        "\n",
        "def combinationsValGen(augfun1, augfun2, hyp):\n",
        "  accuracies = np.zeros(len(hyp), dtype=np.float) # we will save the values here\n",
        "\n",
        "  for ii in range(len(hyp)):\n",
        "    # create the augmented dataset\n",
        "    augdata = train_X # we include the original images also in the augmented dataset\n",
        "    auglabel = train_y\n",
        "    for jj in range(naugmentations):\n",
        "      augdata = np.concatenate((augdata, combinations(train_X, hyp[ii][0], hyp[ii][1], augfun1, augfun2))) # concatenate the augmented data to the set\n",
        "      auglabel = np.concatenate((auglabel, train_y))  # the labels don't change when we augment\n",
        "\n",
        "    # check the test accuracy\n",
        "    testpred = NN(augdata, auglabel, test_X)\n",
        "    accuracies[ii] = Accuracy(test_y, testpred)\n",
        "  return accuracies\n",
        "accuracy1 = combinationsValGen(shear, rotate,hyp1)\n",
        "accuracy2 = combinationsValGen(shear, noise, hyp2)\n",
        "accuracy3 = combinationsValGen(noise, rotate, hyp3)\n"
      ],
      "metadata": {
        "id": "5r4imRDjPhDq",
        "outputId": "bdc10362-af05-43e3-91c5-8e5054d138b4",
        "colab": {
          "base_uri": "https://localhost:8080/"
        }
      },
      "execution_count": 75,
      "outputs": [
        {
          "output_type": "stream",
          "name": "stderr",
          "text": [
            "/usr/local/lib/python3.7/dist-packages/ipykernel_launcher.py:9: DeprecationWarning: `np.float` is a deprecated alias for the builtin `float`. To silence this warning, use `float` by itself. Doing this will not modify any behavior and is safe. If you specifically wanted the numpy scalar type, use `np.float64` here.\n",
            "Deprecated in NumPy 1.20; for more details and guidance: https://numpy.org/devdocs/release/1.20.0-notes.html#deprecations\n",
            "  if __name__ == '__main__':\n"
          ]
        }
      ]
    },
    {
      "cell_type": "code",
      "source": [
        "shearandrotateacc = max(accuracy1)\n",
        "shearandnoiseacc = max(accuracy2)\n",
        "rotatendnoiseacc = max(accuracy3)"
      ],
      "metadata": {
        "id": "041HlhrdQE_a"
      },
      "execution_count": 76,
      "outputs": []
    },
    {
      "cell_type": "code",
      "source": [
        "print(shearandrotateacc, shearandnoiseacc, rotatendnoiseacc)\n",
        "# 0.6215 0.6632 0.6464 obtained values"
      ],
      "metadata": {
        "id": "bKb43eLrQJzQ",
        "outputId": "5f473ba2-b21f-489c-a578-2fea4654dcba",
        "colab": {
          "base_uri": "https://localhost:8080/"
        }
      },
      "execution_count": 77,
      "outputs": [
        {
          "output_type": "stream",
          "name": "stdout",
          "text": [
            "0.6103 0.6617 0.6475\n"
          ]
        }
      ]
    },
    {
      "cell_type": "code",
      "source": [
        "def combinationstri(sample, angfun1param, angfun2param,augfun3param, augfun1, augfun2, augfun3):\n",
        "  if len(sample.shape)==2:\n",
        "    sample = np.expand_dims(sample, 0)  # make sure the sample is 3 dimensional\n",
        "  augfun2val = rng.random(len(sample)) # generate random numbers for shear\n",
        "  augfun2val = (augfun2val-0.5)*angfun2param # make the random shear constrained\n",
        "  augfun1val = rng.random(len(sample)) # generate random numbers for angles\n",
        "  augfun1val = (augfun1val-0.5)*angfun1param # make the random angle constrained\n",
        "  augfun3val = rng.random(len(sample))\n",
        "  augfun3val = (augfun3val-0.5)*augfun3param\n",
        "  nsample = sample.copy() # preallocate the augmented array to make it faster\n",
        "  for ii in range(len(sample)):\n",
        "    nsample[ii] = augfun1(augfun2(augfun3(sample[ii], augfun3val[ii]), augfun2val[ii]), augfun1val[ii]) # first apply shear, then rotate\n",
        "  return np.squeeze(nsample) # take care if the input had only one sample.\n"
      ],
      "metadata": {
        "id": "bsME5A0RQVHv"
      },
      "execution_count": 78,
      "outputs": []
    },
    {
      "cell_type": "markdown",
      "source": [
        "Function to find accuracy for dataset with 3 augmented featues"
      ],
      "metadata": {
        "id": "DdvloKLbQYsV"
      }
    },
    {
      "cell_type": "code",
      "source": [
        "def combinationsValGenTri(augfun1, augfun2, augfun3):\n",
        "\n",
        "  # create the augmented dataset\n",
        "  augdata = train_X # we include the original images also in the augmented dataset\n",
        "  auglabel = train_y\n",
        "  for jj in range(naugmentations):\n",
        "    augdata = np.concatenate((augdata, combinationstri(train_X, 30, 0.75,1.6, augfun1, augfun2, augfun3))) # concatenate the augmented data to the set\n",
        "    auglabel = np.concatenate((auglabel, train_y))  # the labels don't change when we augment\n",
        "\n",
        "  # check the test accuracy\n",
        "  testpred = NN(augdata, auglabel, test_X)\n",
        "  accuracies = Accuracy(test_y, testpred)\n",
        "  return accuracies"
      ],
      "metadata": {
        "id": "EvDZamY-Ql0b"
      },
      "execution_count": 79,
      "outputs": []
    },
    {
      "cell_type": "code",
      "source": [
        "accuracyall3 = combinationsValGenTri(rotate, shear, noise)\n",
        "print(shearandrotateacc, shearandnoiseacc, rotatendnoiseacc,accuracyall3)\n",
        "# 0.6215 0.6632 0.6464 0.6449 obtained values"
      ],
      "metadata": {
        "id": "VPwHCwEIQspA",
        "outputId": "eee3d7e9-6024-44d5-a891-c07b725b1937",
        "colab": {
          "base_uri": "https://localhost:8080/"
        }
      },
      "execution_count": 80,
      "outputs": [
        {
          "output_type": "stream",
          "name": "stdout",
          "text": [
            "0.6103 0.6617 0.6475 0.6563\n"
          ]
        }
      ]
    },
    {
      "cell_type": "markdown",
      "source": [
        "the best combination here that we obtained is from shear and noise combined and then the other one was noise and rotation.\n",
        "\n",
        "Now lets try to find the train dataset size and augmentation relationship"
      ],
      "metadata": {
        "id": "TytiSa2iQxLa"
      }
    },
    {
      "cell_type": "code",
      "source": [
        "(train_X, train_y), (test_X, test_y) = mnist.load_data()\n",
        "train_X = train_X/255\n",
        "test_X = test_X/255"
      ],
      "metadata": {
        "id": "cLdgLi0vQ1x1"
      },
      "execution_count": 81,
      "outputs": []
    },
    {
      "cell_type": "code",
      "source": [
        "def combinationsfinal(sample, angfun1param, angfun2param, augfun1, augfun2):\n",
        "  if len(sample.shape)==2:\n",
        "    sample = np.expand_dims(sample, 0)  # make sure the sample is 3 dimensional\n",
        "  augfun2val = rng.random(len(sample)) # generate random numbers for shear\n",
        "  augfun2val = (augfun2val-0.5)*angfun2param # make the random shear constrained\n",
        "  augfun1val = rng.random(len(sample)) # generate random numbers for angles\n",
        "  augfun1val = (augfun1val-0.5)*angfun1param # make the random angle constrained\n",
        "  nsample = sample.copy() # preallocate the augmented array to make it faster\n",
        "  for ii in range(len(sample)):\n",
        "    nsample[ii] = augfun1(augfun2(sample[ii], augfun2val[ii]), augfun1val[ii]) # first apply shear, then rotate\n",
        "  return np.squeeze(nsample)"
      ],
      "metadata": {
        "id": "IdUaD8GWQ6y7"
      },
      "execution_count": 82,
      "outputs": []
    },
    {
      "cell_type": "code",
      "source": [
        "def combinationsValGenfinal(augfun1, augfun2, train_X, train_y):\n",
        "\n",
        "  # create the augmented dataset\n",
        "  augdata = train_X # we include the original images also in the augmented dataset\n",
        "  auglabel = train_y\n",
        "  for jj in range(naugmentations):\n",
        "    augdata = np.concatenate((augdata, combinationsfinal(train_X, 0.75,1.6, augfun1, augfun2))) # concatenate the augmented data to the set\n",
        "    auglabel = np.concatenate((auglabel, train_y))  # the labels don't change when we augment\n",
        "\n",
        "  # check the test accuracy\n",
        "  testpred = NN(augdata, auglabel, test_X)\n",
        "  accuracies = Accuracy(test_y, testpred)\n",
        "  return accuracies"
      ],
      "metadata": {
        "id": "GPS0oPiSQ6vj"
      },
      "execution_count": 83,
      "outputs": []
    },
    {
      "cell_type": "code",
      "source": [
        "traindictx = {}\n",
        "traindicty = {}\n",
        "accuracydict = {}\n",
        "for i in range(100, 1101, 100):\n",
        "  traindictx[i] = train_X[::i, :,:].copy()\n",
        "  traindicty[i] = train_y[::i].copy()\n",
        "  accuracydict[i] = combinationsValGenfinal(shear, noise,traindictx[i], traindicty[i])\n"
      ],
      "metadata": {
        "id": "1wT2v3kORE1t"
      },
      "execution_count": 84,
      "outputs": []
    },
    {
      "cell_type": "code",
      "source": [
        "accuracydict.keys()"
      ],
      "metadata": {
        "id": "B1p3c1dDTUy3",
        "outputId": "1b144c30-98f7-4cf7-e560-ab3b5d171994",
        "colab": {
          "base_uri": "https://localhost:8080/"
        }
      },
      "execution_count": 85,
      "outputs": [
        {
          "output_type": "execute_result",
          "data": {
            "text/plain": [
              "dict_keys([100, 200, 300, 400, 500, 600, 700, 800, 900, 1000, 1100])"
            ]
          },
          "metadata": {},
          "execution_count": 85
        }
      ]
    },
    {
      "cell_type": "code",
      "source": [
        "trainsize = []\n",
        "trainacc = []\n",
        "for i,j in accuracydict.items():\n",
        "  trainsize.append(i)\n",
        "  trainacc.append(j)"
      ],
      "metadata": {
        "id": "nN_DmFNhThFn"
      },
      "execution_count": 86,
      "outputs": []
    },
    {
      "cell_type": "code",
      "source": [
        "plt.plot(trainsize, trainacc)\n",
        "plt.scatter(trainsize, trainacc)\n",
        "plt.show()"
      ],
      "metadata": {
        "id": "aPgyapHsTojO",
        "outputId": "1a561b80-78e5-4f11-cec9-c647c79d3ff5",
        "colab": {
          "base_uri": "https://localhost:8080/",
          "height": 267
        }
      },
      "execution_count": 87,
      "outputs": [
        {
          "output_type": "display_data",
          "data": {
            "text/plain": [
              "<Figure size 432x288 with 1 Axes>"
            ],
            "image/png": "[encoded data removed]"
          },
          "metadata": {
            "needs_background": "light"
          }
        }
      ]
    },
    {
      "cell_type": "code",
      "source": [
        "def combinationsValGenfinal(augfun1, augfun2, train_X, train_y):\n",
        "\n",
        "  # create the augmented dataset\n",
        "  augdata = train_X # we include the original images also in the augmented dataset\n",
        "  auglabel = train_y\n",
        "  for jj in range(naugmentations):\n",
        "    augdata = np.concatenate((augdata, combinationsfinal(train_X, 30,1.6, augfun1, augfun2))) # concatenate the augmented data to the set\n",
        "    auglabel = np.concatenate((auglabel, train_y))  # the labels don't change when we augment\n",
        "\n",
        "  # check the test accuracy\n",
        "  testpred = NN(augdata, auglabel, test_X)\n",
        "  accuracies = Accuracy(test_y, testpred)\n",
        "  return accuracies"
      ],
      "metadata": {
        "id": "FLDws5dnTsU7"
      },
      "execution_count": 88,
      "outputs": []
    },
    {
      "cell_type": "code",
      "source": [
        "plt.plot(trainsize, trainacc)\n",
        "plt.scatter(trainsize, trainacc)\n",
        "plt.show()"
      ],
      "metadata": {
        "id": "nXQ6yRL5TsOo",
        "outputId": "72e19457-d25b-4039-b1d6-a99c35ee476f",
        "colab": {
          "base_uri": "https://localhost:8080/",
          "height": 267
        }
      },
      "execution_count": 89,
      "outputs": [
        {
          "output_type": "display_data",
          "data": {
            "text/plain": [
              "<Figure size 432x288 with 1 Axes>"
            ],
            "image/png": "[encoded data removed]"
          },
          "metadata": {
            "needs_background": "light"
          }
        }
      ]
    }
  ]
}